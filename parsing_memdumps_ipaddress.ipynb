{
 "metadata": {
  "name": "parsing_memdumps_ipaddress"
 },
 "nbformat": 3,
 "nbformat_minor": 0,
 "worksheets": [
  {
   "cells": [
    {
     "cell_type": "heading",
     "level": 2,
     "metadata": {},
     "source": [
      "Demo POC for scraping memory dumps of IP Addresses\n"
     ]
    },
    {
     "cell_type": "heading",
     "level": 2,
     "metadata": {},
     "source": [
      "How to extract data out of a Memory Dump"
     ]
    },
    {
     "cell_type": "code",
     "collapsed": false,
     "input": [
      "import time\n",
      "import struct\n",
      "\n",
      "    \n",
      "\"\"\"\n",
      "Demo POC for scraping memory dumps of IP Addresses\n",
      "\"\"\"\n",
      "\n",
      "filename = \"/root/Desktop/mem/devmem\""
     ],
     "language": "python",
     "metadata": {},
     "outputs": [],
     "prompt_number": 1
    },
    {
     "cell_type": "heading",
     "level": 2,
     "metadata": {},
     "source": [
      " ."
     ]
    },
    {
     "cell_type": "heading",
     "level": 2,
     "metadata": {},
     "source": [
      " ."
     ]
    },
    {
     "cell_type": "heading",
     "level": 2,
     "metadata": {},
     "source": [
      "Open a file in a variable memory_dump"
     ]
    },
    {
     "cell_type": "code",
     "collapsed": false,
     "input": [
      "memory_dump = open(filename, \"rb\")"
     ],
     "language": "python",
     "metadata": {},
     "outputs": [],
     "prompt_number": 2
    },
    {
     "cell_type": "code",
     "collapsed": false,
     "input": [
      "memory_dump"
     ],
     "language": "python",
     "metadata": {},
     "outputs": [
      {
       "output_type": "pyout",
       "prompt_number": 3,
       "text": [
        "<open file '/root/Desktop/mem/devmem', mode 'rb' at 0xa135d88>"
       ]
      }
     ],
     "prompt_number": 3
    },
    {
     "cell_type": "heading",
     "level": 2,
     "metadata": {},
     "source": [
      "."
     ]
    },
    {
     "cell_type": "heading",
     "level": 2,
     "metadata": {},
     "source": [
      "."
     ]
    },
    {
     "cell_type": "heading",
     "level": 2,
     "metadata": {},
     "source": [
      "."
     ]
    },
    {
     "cell_type": "heading",
     "level": 2,
     "metadata": {},
     "source": [
      "."
     ]
    },
    {
     "cell_type": "heading",
     "level": 2,
     "metadata": {},
     "source": [
      "Here I build a byte reader data structure to buffer reads 18 bytes at a time"
     ]
    },
    {
     "cell_type": "code",
     "collapsed": false,
     "input": [
      "def byte_reader(memory_dump, number_bytes):\n",
      "        '''\n",
      "        Read the bytes\n",
      "        '''\n",
      "        byte = memory_dump.read(number_bytes)\n",
      "        return byte\n"
     ],
     "language": "python",
     "metadata": {},
     "outputs": [],
     "prompt_number": 4
    },
    {
     "cell_type": "code",
     "collapsed": false,
     "input": [
      "byte_reader(memory_dump, 18)"
     ],
     "language": "python",
     "metadata": {},
     "outputs": [
      {
       "output_type": "pyout",
       "prompt_number": 5,
       "text": [
        "'\\xc0\\xa8\\nd\\xc0\\xa8\\x01e#*#+\\x00\\x01\\x01\\x0c\\x00\\x01'"
       ]
      }
     ],
     "prompt_number": 5
    },
    {
     "cell_type": "heading",
     "level": 2,
     "metadata": {},
     "source": [
      "."
     ]
    },
    {
     "cell_type": "heading",
     "level": 2,
     "metadata": {},
     "source": [
      "."
     ]
    },
    {
     "cell_type": "heading",
     "level": 2,
     "metadata": {},
     "source": [
      "."
     ]
    },
    {
     "cell_type": "heading",
     "level": 2,
     "metadata": {},
     "source": [
      "Demo to parse the mem file with 10 of 56 records each of length 18 "
     ]
    },
    {
     "cell_type": "code",
     "collapsed": false,
     "input": [
      "fd = open(filename, \"rb\")"
     ],
     "language": "python",
     "metadata": {},
     "outputs": [],
     "prompt_number": 6
    },
    {
     "cell_type": "code",
     "collapsed": false,
     "input": [
      "i = 0"
     ],
     "language": "python",
     "metadata": {},
     "outputs": [],
     "prompt_number": 7
    },
    {
     "cell_type": "code",
     "collapsed": false,
     "input": [
      "'''\n",
      "Demo to parse the mem file with 10 of 56 records each of length 18 \n",
      "'''\n",
      "\n",
      "for element in range (0,10):\n",
      "    buffer = byte_reader(fd, 18)\n",
      "             \n",
      "    print 100*\"*\"\n",
      "    print i\n",
      "    sourceAddress = struct.unpack_from('B', buffer,0),\\\n",
      "                    struct.unpack_from('B', buffer,1),\\\n",
      "                    struct.unpack_from('B', buffer,2),\\\n",
      "                    struct.unpack_from('B', buffer,3)\n",
      "    \n",
      "    destinationAddress = struct.unpack_from('B', buffer,4),\\\n",
      "                    struct.unpack_from('B', buffer,5),\\\n",
      "                    struct.unpack_from('B', buffer,6),\\\n",
      "                    struct.unpack_from('B', buffer,7)\n",
      "    \n",
      "    sourcePort = struct.unpack_from('H',buffer,8)\n",
      "    \n",
      "    destinationPort = struct.unpack_from('H',buffer,10)\n",
      "    \n",
      "    protocolUsed = struct.unpack_from('H',buffer,12)\n",
      "    \n",
      "    timeStamp = struct.unpack_from('B', buffer,14),\\\n",
      "                struct.unpack_from('B', buffer,15),\\\n",
      "                struct.unpack_from('B', buffer,16),\\\n",
      "                struct.unpack_from('B', buffer,17)\n",
      "            \n",
      "    a,b,c,d = sourceAddress\n",
      "    e,f,g,h = destinationAddress\n",
      "    j = sourcePort\n",
      "    k = destinationPort\n",
      "    \n",
      "    print \"sourceAddress = \", \".\".join([str(a[0]),str(b[0]),str(c[0]),str(d[0])])\n",
      "    print \"destinationAddress = \", \".\".join([str(e[0]),str(f[0]),str(g[0]),str(h[0])])\n",
      "    print \"sourcePort = \", j[0]\n",
      "    print \"destinationPort = \", k[0]\n",
      "    print \"protocolUsed = \", protocolUsed\n",
      "    print \"timeStamp = \", timeStamp\n",
      "    time.sleep(2)\n",
      "    i=i+1"
     ],
     "language": "python",
     "metadata": {},
     "outputs": [
      {
       "output_type": "stream",
       "stream": "stdout",
       "text": [
        "****************************************************************************************************\n",
        "0\n",
        "sourceAddress =  192.168.10.100\n",
        "destinationAddress =  192.168.1.101\n",
        "sourcePort =  10787\n",
        "destinationPort =  11043\n",
        "protocolUsed =  (256,)\n",
        "timeStamp =  ((1,), (12,), (0,), (1,))\n",
        "****************************************************************************************************"
       ]
      },
      {
       "output_type": "stream",
       "stream": "stdout",
       "text": [
        "\n",
        "1\n",
        "sourceAddress =  192.168.10.102\n",
        "destinationAddress =  207.168.1.103\n",
        "sourcePort =  11299\n",
        "destinationPort =  11555\n",
        "protocolUsed =  (256,)\n",
        "timeStamp =  ((1,), (12,), (0,), (1,))\n",
        "****************************************************************************************************"
       ]
      },
      {
       "output_type": "stream",
       "stream": "stdout",
       "text": [
        "\n",
        "2\n",
        "sourceAddress =  192.168.10.104\n",
        "destinationAddress =  192.168.1.105\n",
        "sourcePort =  11043\n",
        "destinationPort =  10787\n",
        "protocolUsed =  (256,)\n",
        "timeStamp =  ((1,), (12,), (0,), (3,))\n",
        "****************************************************************************************************"
       ]
      },
      {
       "output_type": "stream",
       "stream": "stdout",
       "text": [
        "\n",
        "3\n",
        "sourceAddress =  192.168.10.112\n",
        "destinationAddress =  192.168.1.113\n",
        "sourcePort =  11811\n",
        "destinationPort =  11043\n",
        "protocolUsed =  (256,)\n",
        "timeStamp =  ((1,), (12,), (0,), (4,))\n",
        "****************************************************************************************************"
       ]
      },
      {
       "output_type": "stream",
       "stream": "stdout",
       "text": [
        "\n",
        "4\n",
        "sourceAddress =  192.168.10.74\n",
        "destinationAddress =  192.168.1.75\n",
        "sourcePort =  12067\n",
        "destinationPort =  10787\n",
        "protocolUsed =  (256,)\n",
        "timeStamp =  ((1,), (12,), (0,), (5,))\n",
        "****************************************************************************************************"
       ]
      },
      {
       "output_type": "stream",
       "stream": "stdout",
       "text": [
        "\n",
        "5\n",
        "sourceAddress =  192.168.10.116\n",
        "destinationAddress =  192.168.1.117\n",
        "sourcePort =  10788\n",
        "destinationPort =  11044\n",
        "protocolUsed =  (256,)\n",
        "timeStamp =  ((1,), (12,), (0,), (6,))\n",
        "****************************************************************************************************"
       ]
      },
      {
       "output_type": "stream",
       "stream": "stdout",
       "text": [
        "\n",
        "6\n",
        "sourceAddress =  192.168.10.76\n",
        "destinationAddress =  192.168.1.78\n",
        "sourcePort =  11300\n",
        "destinationPort =  10787\n",
        "protocolUsed =  (256,)\n",
        "timeStamp =  ((1,), (12,), (0,), (7,))\n",
        "****************************************************************************************************"
       ]
      },
      {
       "output_type": "stream",
       "stream": "stdout",
       "text": [
        "\n",
        "7\n",
        "sourceAddress =  192.168.10.79\n",
        "destinationAddress =  192.168.10.1\n",
        "sourcePort =  43200\n",
        "destinationPort =  2817\n",
        "protocolUsed =  (11811,)\n",
        "timeStamp =  ((35,), (1,), (0,), (1,))\n",
        "****************************************************************************************************"
       ]
      },
      {
       "output_type": "stream",
       "stream": "stdout",
       "text": [
        "\n",
        "8\n",
        "sourceAddress =  1.12.0.8\n",
        "destinationAddress =  192.168.10.12\n",
        "sourcePort =  43200\n",
        "destinationPort =  2817\n",
        "protocolUsed =  (10788,)\n",
        "timeStamp =  ((36,), (43,), (0,), (1,))\n",
        "****************************************************************************************************"
       ]
      },
      {
       "output_type": "stream",
       "stream": "stdout",
       "text": [
        "\n",
        "9\n",
        "sourceAddress =  1.12.0.8\n",
        "destinationAddress =  192.168.1.11\n",
        "sourcePort =  43200\n",
        "destinationPort =  3594\n",
        "protocolUsed =  (43200,)\n",
        "timeStamp =  ((1,), (12,), (35,), (2,))\n"
       ]
      }
     ],
     "prompt_number": 8
    }
   ],
   "metadata": {}
  }
 ]
}