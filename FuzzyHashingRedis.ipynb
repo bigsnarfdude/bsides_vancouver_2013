{
 "metadata": {
  "name": "FuzzyHashingRedis"
 },
 "nbformat": 3,
 "nbformat_minor": 0,
 "worksheets": [
  {
   "cells": [
    {
     "cell_type": "heading",
     "level": 2,
     "metadata": {},
     "source": [
      "Demo POC Fuzzy Hashing into redis"
     ]
    },
    {
     "cell_type": "heading",
     "level": 2,
     "metadata": {},
     "source": [
      "Setting up namespace"
     ]
    },
    {
     "cell_type": "code",
     "collapsed": false,
     "input": [
      "import time\n",
      "import struct\n",
      "import hashlib\n",
      "\n",
      "filename = \"/Users/antigen/Downloads/Python_for_Data_Analysis.pdf\"\n",
      "filename2 = \"/Users/antigen/Desktop/moarBooks/1449327052_Hado.pdf\""
     ],
     "language": "python",
     "metadata": {},
     "outputs": [],
     "prompt_number": 23
    },
    {
     "cell_type": "heading",
     "level": 2,
     "metadata": {},
     "source": [
      "Checking file object"
     ]
    },
    {
     "cell_type": "code",
     "collapsed": false,
     "input": [
      "memory_dump = open(filename, \"rb\")"
     ],
     "language": "python",
     "metadata": {},
     "outputs": [],
     "prompt_number": 2
    },
    {
     "cell_type": "code",
     "collapsed": false,
     "input": [
      "memory_dump"
     ],
     "language": "python",
     "metadata": {},
     "outputs": [
      {
       "output_type": "pyout",
       "prompt_number": 3,
       "text": [
        "<open file '/Users/antigen/Downloads/Python_for_Data_Analysis.pdf', mode 'rb' at 0x10bd439c0>"
       ]
      }
     ],
     "prompt_number": 3
    },
    {
     "cell_type": "heading",
     "level": 2,
     "metadata": {},
     "source": [
      "Here I build a byte reader data structure to buffer reads 18 bytes at a time"
     ]
    },
    {
     "cell_type": "code",
     "collapsed": false,
     "input": [
      "def byte_reader(memory_dump, number_bytes):\n",
      "        '''\n",
      "        Read the bytes\n",
      "        '''\n",
      "        byte = memory_dump.read(number_bytes)\n",
      "        return byte\n"
     ],
     "language": "python",
     "metadata": {},
     "outputs": [],
     "prompt_number": 4
    },
    {
     "cell_type": "code",
     "collapsed": false,
     "input": [
      "byte_reader(memory_dump, 18)"
     ],
     "language": "python",
     "metadata": {},
     "outputs": [
      {
       "output_type": "pyout",
       "prompt_number": 5,
       "text": [
        "'%PDF-1.6\\r%\\xe2\\xe3\\xcf\\xd3\\r\\n10'"
       ]
      }
     ],
     "prompt_number": 5
    },
    {
     "cell_type": "heading",
     "level": 2,
     "metadata": {},
     "source": [
      "This function reads and byte and creates and MD5"
     ]
    },
    {
     "cell_type": "code",
     "collapsed": false,
     "input": [
      "def hashing_byte_reader(memory_dump, number_bytes):\n",
      "        '''\n",
      "        Read the bytes and return MD5\n",
      "        '''\n",
      "        byte = memory_dump.read(number_bytes)\n",
      "        m = hashlib.md5()\n",
      "        m.update(byte)\n",
      "        hash_byte = m.hexdigest()\n",
      "        return byte, hash_byte"
     ],
     "language": "python",
     "metadata": {},
     "outputs": [],
     "prompt_number": 6
    },
    {
     "cell_type": "heading",
     "level": 2,
     "metadata": {},
     "source": [
      "POC rolling 18 byte block fuzzy hashing with redis in list"
     ]
    },
    {
     "cell_type": "code",
     "collapsed": false,
     "input": [
      "fd = open(filename2, \"rb\")\n",
      "import redis\n",
      "\n",
      "r_server = redis.Redis(\"localhost\")\n",
      "\n",
      "for element in range (0,100):\n",
      "    buffer = hashing_byte_reader(fd, 18)\n",
      "    print buffer, r_server.rpush('hashes2', buffer[1])"
     ],
     "language": "python",
     "metadata": {},
     "outputs": [
      {
       "output_type": "stream",
       "stream": "stdout",
       "text": [
        "('%PDF-1.6\\r%\\xe2\\xe3\\xcf\\xd3\\r\\n69', '711b71141a83218388cdab84be36044c') 21\n",
        "('44 0 obj\\r<</Filter', '09193ba204f5f7abfe49d078ac4bd1e2') 22\n",
        "('/FlateDecode/First', 'b0e12672778f6ef5e466f1abfbb2a16a') 23\n",
        "(' 2020/Length 3439/', '24f2d8eae580e13eb7710ea0ffd96ac5') 24\n",
        "('N 195/Type/ObjStm>', '454462de406ff6bcd1dc0b72a243d980') 25\n",
        "('>stream\\r\\nh\\xde\\xe4[Q\\x8f\\xe4\\xb6\\r', '203fb84b53322f78e3a059859124742a') 26\n",
        "('\\xfe+\\xfe\\x05\\x19\\x89\\xa2(\\x12\\x08\\x0ehR,p(\\x8a\\x1e', '876083680c7897dcb6befe97331e3ed8') 27\n",
        "('\\xd2<\\x14X\\xe4\\xe1\\x92,\\x8a\\x14\\xed]pw\\x01\\xd2\\x7f\\xdf', '1c711d364121b14361d00f8f9cb1039b') 28\n",
        "('\\x8f\\xb6g\\x92[dv\\xb83\\x9e\\x91\\xbd}\\xd8\\xb1\\xd6\\x96e', '0d8fc9797ee8aae444c78287b43f94c3') 29\n",
        "('}\\x1f)\\x8a\\xa2\\xc4<\\xa4\\x81\\x86,u\\xa8:P\\xb5\\xa1\\x95', '5c34a28fdbe1f911e08b4ee0c47dfe7c') 30\n",
        "('\\x81q\\xd16\\x08.\\x86\\x12.\\x99\\xea\\x903\\x95!\\xb3\\xe0\\x8f', '228c928ede4ac8a46a3ae40e8a5a51ce') 31\n",
        "('\\xdb\\x90+\\xe3-\\xc5\\x0f\\xde\\xcb\\x8a\\xeaYh\\xa0\\xe4w4\\x0f', '9b5a25cfff474e93750a425ac7ec9409') 32\n",
        "('T\\x8a\\xff\\x87\\xbf*\\xf8\\x8fy e\\x14j\\x19J\\xc2\\x0f\\xd5', '8a9c57d22a51e86c3e3847139cdd1696') 33\n",
        "('6\\x14\\x12\\x19\\xa8\\xd5\\xa1\\xb0\\xe0\\x8e\\xc9PD\\xf1\\x93\\xf3P,', 'b8e7d41b6fdcc27e769eaa0986b8275a') 34\n",
        "('\\x19\\x9e\\xd7\\x81s\\xf5\\xe740n\\r\\xa5\\xca\\xc0\\x82\\xaf\\xa3\\xe2', '1d7ea033b75bc0c60ac5a036f3b27ce5') 35\n",
        "('\\xc0\\xdapG\\xd1\\xf1\\x9c\\xfc\\r\\x1dj\\xc9\\xe8<\\xe5\\xa1VI', '58376c29bc36ebe729c0a6f7a33c864b') 36\n",
        "('x\\xa3\\r\\xb5\\x19\\xda@W%e\\xbc!6\\x08\\xb1\\xe1\\xd5:', 'a8787abed86f91e3d122d18a21cc987c') 37\n",
        "('\\x08+*\\x03\\x9f\\xb4\\x8c\\x8a\\x19\\x05\\xabx\\x95\\xd3\\x80\\x1b\\x8cB', 'cac57187f83b6cd3102e281142d6904e') 38\n",
        "('\\x03\\x17\\xa8S\\x81\\xabU\\xb4\\x83\\xc6\\x86\\xa6\\tw\\x8c\\x07\\\\\\x15', 'ba76a827989f22afa65d3dae7a13d6b6') 39\n",
        "('\\xad\\xd6A\\xa9\\xd1 \\xd9y\\xc2#!\\xa7\\x0e_\\x16\\xc6#C', 'fab88380437dc0f4ac36f3988ce6449f') 40\n",
        "(\"\\xc5\\x91EB\\xc7\\xa4\\xb5\\xc18'|G\\x06\\x93R\\xf0\\x1d\\x14\", '05b61578e9316717b4d9a6c0ed6b0344') 41\n",
        "('\\x14\\x15[\\x01\\xab\\xc9yi\\xd5K\\x04q4\\xa0\\xcb\\x89!\\x8e', '020f276cab7138a68a086089f7fd96be') 42\n",
        "('\\x06\\x8ar\\x92\\xe6\\xf7\\xc0uR\\xf0\\xd2\\x0cB\\xc3c\\x19\\x14\\xc0', '0e47d498337ad45f2b616ff0739cd394') 43\n",
        "(' \\x1a<Q|;g\\x06O\\xca\\xfe\\xb4\\x81\\t\\x05\\xcf9\\xdb', 'b04195726c338aeb4d9593f3a94f0e1b') 44\n",
        "('\\xd8+\\xd4\\xa3\\x0cbFaQ\\xc1\\x13\\x83\\x80 ZPl\\xd9', '441a570ca95c25b9d7fcaaee2438171b') 45\n",
        "('KMp\\x8f \\xc1\\x92@\\xa9\\x15|\\xb7\\x10x0\\x17va', '69e3b1d682c2c4e142a612f528d4ae85') 46\n",
        "('\\xf4\\xc8\\xc4K\\x02\\xc8\\x06Q\\xe5\\xa2\\xea}K\\xb8\\xc9\\xc9\\xa0\\x1e', 'f4fbe36c2204aa987fa8ecf9ebac25f2') 47\n",
        "('\\xa9d\\x14\\x8bz\\xdf]o\\xd8)\\xca\\xa9\\xb9\\xe6\\xb8\\x02\\xa0\\xf7', 'bebb002005ca71a2887a2f0bcd25d129') 48\n",
        "('\\xf8\\xbf\\xa6\\x9a\\xbc\\xfb\\xf8\\xa9d\\xdeC\\xc2\\xe7ke\\xd7\\xb2Q', 'a878172b5e705dadd270f7fc2bc10bd8') 49\n",
        "('\\xb9\\x9a9\\x16\\xff\\x98\\xa4\\xe4\\x00!\\x08(\\x988.\\x7fA\\x18', 'ea11dc52b31387b35f32fd1716ca3264') 50\n",
        "('$\\xe2-\\xb4(\\xadx\\xdf\\x0b^\\x10s\\xf5$\\x881\\x83[', '6c3530666010de92ec7e82ad874c5365') 51\n",
        "('\\xfc\\x12\\xf4$C\\x1ch\\x97\\xbcOM\\x1c\\x1dA\\x98\\xb9)\\x94', 'e0b208f6fd4b760e0f733b4cdf1752d9') 52\n",
        "('.\\x17\\xc7\\xad\\xd9\\x7f]\\xdd\\xf0\\x19\\xefY!\\xd7\\xe9\\n\\x0er', '9a95fbc7a6999974bf70632832fe2be6') 53\n",
        "('\\xf1v\\xa1iN\\x85\\xcbF\\x8d\\xbdB\\xc3#\\x83\\xda;\\x05\\xe8', '9f2288ebf65a6b676b1fc9ea5e2b8fc4') 54\n",
        "('\\x8e\\xb1\\xe3v\\x1d\\xcc`(9\\x05h\\xd1\\xb4\\x8d\\xa3\\x05Z\\x9e', '7cfef2699d923848ac02589df7fdb944') 55\n",
        "('rvb\\xd08\\xa5Bc\\x11C\\x02\\x12\\xf7\\xba`\\x87\\x92s', '8a9e5c92ad31968a6e0259ed3e545b0f') 56\n",
        "('\\x0f\\xe1\\xf9\\xa81\\x17.\\x88\\x19\\x08\\x08\\xd5\\x89\\xc1kx\\xa38', '889a06604d560035821e55e1fef46567') 57\n",
        "('1\\xa8\\x9b\\xdb\\xc8\\x9cz\\x05cu\\x8ep\\x17eq\\x8ep\\x97', '56a842c0635116a14740c59bc7124dc5') 58\n",
        "('\\x18\"\\xcd\\xaebD-91\\x15\\xed\\x929\\xbf\\x82\\xefP\\xc9', '78f76b0ad7c122780a7f965c0493edd0') 59\n",
        "('\\xce\\xaf\\x8f6*\\xec\\xfc\\n\\xbaNE\\x1cl\\x83\\x8a\\x12\\x14\\xdf', 'e03ae17d11de7b4f8637c6439b1a4a29') 60\n",
        "('\\x99#T\\x80`\\xdbH\"\\x8a\\xc5[h\\xd5GtUg\\xb9', '59d136c34b80fd9d54e5cbb7cb1a363c') 61\n",
        "('yqT\\xbc\\x06\\xbd\\xa3\\x9a\\xbc]\\xcd>\\xee\\xcbh\\x18\\x8a\\xdf', '8d9351b48cb7de6bb6aa6ed6b185bd13') 62\n",
        "('\\x95\\x91O7\\x02U]\\xa6\\xfeC2R\\xa2\\x18\\x93$#%', '2d53e18fdd48f3ccdf8c48bce054bdc8') 63\n",
        "('\\x96+\\x8a\\x92\\x9dO\\xef\\xba\\x18F\\xcd\\x08\\x90Zv\\xb517', '5f1dd812591a3fdfa77455ca24c921e6') 64\n",
        "('\\x13\\x8d]\\x90\\x06\\r\\xa4\\xe6\\x03\\xc8YF\\xd1\\xaa\\x13nng', '04f952dd2a7e01a94b92a24ec8e8d47a') 65\n",
        "('\\xb2?s\\x05\\x86\\xc9\\x016p\\x8f\\xffU\\xc4\\x8b\\xe4\\x15\\x0c\\x9f', 'c535e3df701b169993025d59c3ae90e3') 66\n",
        "('p1\\xc0\\xe6\\x00\\x81\\x8b\\x01\\x9d\\x84\\x08]N\\xfe\\xae\\xc1\\x12\\xb8', '86a01b365d1ddfbb2f0ac64f226f4208') 67\n",
        "(')\\xc3\\x8f\\x99\\xb3\\xe1\\x9aZ\\x12:\\x88\":Y\\x12\\'\\xbf[', '82df7de0daf245179a7466b515192f76') 68\n",
        "('\\xfc\\xae\\xf8kn\\x16K\\xf2\\xa1LnJ\\x0b\\x86\\xab\\x17\\xa1\\xb4', 'd709b9162480d2454707b739f34ac669') 69\n",
        "('eT<\\xc8\\x86P\\xac@Ln\\x15\\x0b\\xfa\\x98\\\\dn\\xee', '4c3c6b4b09ec5e50b47f956ce8b399a1') 70\n",
        "('\\\\\\xa3\\x88`\\\\\\xcb\\xf82J^d\\x07\\xe0\\x86\\x13f\\x12\\xd5', 'e5806722fc6a9de2f08ed763e5c28e43') 71\n",
        "('\\xc8\\xc7a\\x19G(Q\\xf5\\xbb6\\xd6E\\x7fKq{\\x05M', 'd1fa1ada38a95d02467a9c479a964059') 72\n",
        "('A\\x05\\xa8\\xab\\xb9xa\\x10!MTp\\xad.\\xd0Q7\\xc9', 'd7cf5a72f06c2b68bf8f4bed90fb9c07') 73\n",
        "('\\xb0\\n\\x851~\\\\\\xd2\\xe8:\\x0c\\xa4\\x0b\\x1d:\\n\\x03L^', 'a3069ce863d37462a66bfc85558175ad') 74\n",
        "('\\xd7\\xdc\\xd6*X\\xc7\\xd7q\\x17\\x06\\r\\xed2\\xd8*u\\xb4\\xd5', '236d36d6376e1516ab7ba1765ded859f') 75\n",
        "('\\x90?\\x8a\\x95\\xbc\\x82[\\xf2\\xda\\\\8\\xec}\\xa8\\xe6\\xfc\\xb2\\xdb', '6370b5390b72ee766ec058962e827559') 76\n",
        "('oqX0\\xb3n\\xa6GR\\xdd\\xb8\\x16\\x11\\x9f\\x08|\\x88\\x17', 'a91ff96176767362aece6c6e15b2dad7') 77\n",
        "('1J\\xd3\\xc4\\x80qT\\xbd\\x02\\xb4\\xba\\xb4\\xe2\\xca_\\xbd\\x85&', '9bb152a61069da45d492cca6f96bc504') 78\n",
        "('.2\\xd7jtQ\\xbdHn\\xea\\xb3\\xcf Bh\\x17\\xda\\x89', 'ea3d0e935da5ecaf1ac96527058397ff') 79\n",
        "('\\xaf\\x89\\xb3\\xa3\\xa3\\xf2{\\xe3\\xb8G~\\x17\"\\xf5\\xf9\\xc3\\xf5\\xca', 'ed3024f377f4881ecf2092e3aaac3ccb') 80\n",
        "(')1\\x87\\x85a\\xe0E\\xa9\\xae+.7h\\x8d\\x17}f\\x81', '0bd7e6984c12268670f831e7bc4ab091') 81\n",
        "('\\x81\\xf1y\\x08=\\xe3D\\xae\\xe6\\xadz\\x91\\x9d\\x92\\xe6\\xd3a\\x92', '96f3938312d6ff2a8345ae3de94ede76') 82\n",
        "('Q\\xdbP\\x0bc\\xc15J\\x93\\xcfL>5A\\xdb0\\x9d\\xc0', 'a21274ed4d5254b17e139a7c90e0582d') 83\n",
        "('6\\xa2\\x0f\\xae\\xeb\\x98\\xaf\\x1c\\x85\\x82\\x17\\xcen\\x86\\xa1x\\xb8K', '65a8ac99a677bb834e8c5f07fae2a248') 84\n",
        "(\"\\xc9'GE3\\x0c\\x91\\xb9f\\x82z| {c\\xde.>\", '48d2e70138eb1372c75a7e6f900e914b') 85\n",
        "('\\xef-\\x98\\x17]\\x95\\xc9\\xf5\\x0eF\\x05\\xc2!\\x83ma\\x08\\xd6', 'f16f544e72d535cb6a87e0c54f18e23c') 86\n",
        "('\\x8b\\xd5\\xef\\xfadDn\\x89ah\\xf1\\x0c\\x16\\x14\\x9d\\xf4^\\xba', 'b13991cf692a20d34696ed8a80986c14') 87\n",
        "('\\xbe\\xe2\\x13\\\\\\x9c9\\xb7\\xca\\xcc\\x15\\x94|\\xf9\\xe5\\xee\\xab\\x7f?', '312756fe19007b17d5d6121f7c9a3118') 88\n",
        "('<\\xfc\\xf8\\xd5\\xfb_\\xef\\x13\\xe6{\\xbc\\xff\\x05@b4\\xc1$', '4ee12df8020bb97bc450f01f6b90e49d') 89\n",
        "('\\x7f\\xa1j\\xad}\\xb7\\xfb\\xfa\\xfd/\\xef>y[\\xbb\\xaf?\\xbc', '1cd86a5c0bce1df1b5054aae76904a95') 90\n",
        "('\\xff\\xf9\\xc9\\xaa\\x7f\\xf9\\xe9\\xc7\\x8f\\xf7\\x84\\xa7\\xdf\\x0c\\xa2\\xe8\\xcbX', '64a3586ba4e668d27d40903f6d583135') 91\n",
        "('0\\xc8e.\\xa8\\x17\\xbe\\xdb\\xfd\\xf5\\xe1\\xc7\\x9f\\xde>\\xd9\\xd0\\xb7', 'cf8d7b63f73635dda09bdabf83f0d5de') 92\n",
        "('\\xff\\xfd\\xf9a\\xf7\\xe6\\xed?\\x1f>\\xbez\\x85NN]hS', '2e32ed3e1741cb6facd8b6e663432a0b') 93\n",
        "('\\xfb\\xe2d\\xcc\\x9f\\x98Z.\\xe3/F\\xf0\\xf8\\x8f\\x8d\\x17\\x9e\\xba', '49bdfe9d58106cff161ec60b43b844f4') 94\n",
        "('\\xc1u\\xfa\\xe4\\x9b\\xb7\\x1f\\x1e\\xd0D\\xf6\\xff\\x1e\\xb7\\xfe\\xa7w\\xef', 'db46f9cfd443a85b05c88405f02f1cbc') 95\n",
        "('\\xde\\x7f\\xfa8\\xb4\\xf1\\x8dG\\x84\\x80*h\\xd0\\x17\\xd5ix\\xf7', 'f7b4f805623cd44782a3edc243c87399') 96\n",
        "('\\tM|\\xbc\\xaf65\\xf9\\x19\\x1b\\xbf\\xd5\\xfb\\x1c\\xdco\\xf7\\xe7', '229773fb9fe033cbe2e2857d4aaaae35') 97\n",
        "('\\x1e\\xecy\\xd9}\\xf3\\xf0\\xf1\\xfd/\\x1f~x\\xf8\\x88\\x1e\\xdc\\xa1', 'dd7ce73525d5242c6b04ce91e6299d5a') 98\n",
        "('m\\xbf`\\x1a\\x1d\\x9f\\xdd\\xb9Vy\\xe9\\xd5\\xab\\xdd\\x9b\\x0f\\xef\\x7f', 'cef89edd230ded9f1f6c1967d33423a9') 99\n",
        "('\\xf8\\xfb\\xc3\\xa7\\xfb\\xdd\\x9b?\\xdf\\xed\\xbe}\\xf8\\xf5\\xd3\\xee\\xf5\\x7f', '69a750221f8bde6dc303c1b9a3cb19b8') 100\n",
        "('\\xd0\\xf5\\xaf\\xbf\\xc3\\xb3\\x03\\x90\\xdf\\xe3P\\x89\\xe1h\\xbcn\\x1c\\xa6', '7bf2d13b766aaabf49cbaeb6d52dca3f') 101\n",
        "('1\\x1c\\xaa+\\xc5q\\xb2\\xe7>{\\xdc\\xac\\xeb\\xbb;\\x9fs\\xa6', '951ad37fb91bf2ca99c78cb7b51e79a9') 102\n",
        "('\\x12\\xbb\\xdb8\\x15\\xdd\\t\\x9b\\x88\\xbe\\x13\\xf7\\xbcN\\xa1\\xdc\\xfd\\xe3', '18beefd6ee7ac422b6e96bc579d62cd9') 103\n",
        "('o\\xdf\\xff\\xeb\\xe1\\x07\\xff\\xc6\\xeb\\xec\\xfe\\xd9\\xf8\\xee\\xeb\\xd1\\xfd\\x9a', '1aa873c2e5cd5de29d51282922fb991c') 104\n",
        "('\\xde=\"\\xcf\\xfb<\\xdb\\x01xN\\xf3\\x95\\xe7k\\x9d\\xaf2_', 'dde9363f4f3126fcc6a4f3637e4880d9') 105\n",
        "('\\xf7\\xf5t\\xbeN#\\x1a\\x8e\\xe4|\\xcd\\xf3un\\x87gE>', '8e556110108317d544923634809e172f') 106\n",
        "(\"\\xcd7I\\x0f\\xbe\\x9fAgI'8\\xe4\\x99\\x13\\x9e9\\xa93\", '6fd35f1c6a2de71c24b7157fdc68b778') 107\n",
        "(\"'5G9\\xe0v\\x11\\x07\\xb35_\\x92\\x83\\xa3`\\xabDA\", 'bc66b49a995c39e25cef5bd91d051b49') 108\n",
        "('\\xd5z;P\\x0b\\xdb\\x80\\x0b\\xa7\\x93[\\xcaCf\\xe5k\\xb3\\xd2', 'a679b2fdf04789f81d760948664c013d') 109\n",
        "('\\xb5y \\xb6\\xb0\\x9c\\xa4\\xf4\\x00\\xbb\\xbb\\xf3u\\x8a\\x9d\\x8d[g', 'db87baedd95c5b621ce69e5fe720b8d8') 110\n",
        "('C\\xa53~\\xd3(^\\xa5\\xad\\x08\\x17k\\x9d\\xc9\\x8b\\x9af\\x03', 'ce760521c535acaaf4f0ab7c53162f58') 111\n",
        "('_aNW\\xca\\xf3u\\xf6\\xb2h\\xae7[s*)H\\x06', 'd9393ddfa3a56173b0dae5e2f759124b') 112\n",
        "('\\x16V\\x17\\x92\\xa1\\xb7\\x17>\\xd6\\x1dA\\xb7\\x90\\xb8\\xf6\\x80w\\x1e', '6b139305bf9f0c73e3c4c048f735f817') 113\n",
        "('\\xa6\\xa0\\x8b\\xe8\\xeb\\xc9\\x1bb:OP\\x01\\x14\\xba\\x19\\xc9\\xcc\\x1e', 'd33e378fda91e418eafa04f38a9cc525') 114\n",
        "('\\xc6iLM68\\x98\\xca\\xe4_\\x06\\xe0Y\\xeb\\x03O=\\x86', '3503256fe85b737724e007eac271a14f') 115\n",
        "('s6\\xbci\\tz\\x1a^\\xc9\\xb4b\\xe9}\\xee\\x93\\x16\\xcaO', '74860e33aef7e005808cfca00c7a0ea8') 116\n",
        "('\\xfa\\xa4\\x1e9\\n\\xa2&Y\\xdb8|\\xbc\\x9a\\xb1\\x13Pkp', '2923b33d1b174a659836264e58379a9e') 117\n",
        "('x\\x16^\\xf3\\\\wt\\rW\\xa6\\xc9\\xee\\t\\x02\\xa4\\x05\\t\\xa8', '2f0692c4fcef9fbef77f3e0ec710755d') 118\n",
        "('\\x9d\\x06\\xf0ai\\xbb\\xec\\x1cR\\xc4\\xb63b\\xf5\\x94\\x14-*', '63cfc40c0daf5fb80f51bc1d6b22a2ca') 119\n",
        "('E]\\xdd\\x88=\\xe6\\xbfr\\xb6\\xa0\\x1f\\xea\\x81\\xf0\\xad\\x88\\xd2C', '2d80466a12881999a8e4328a032fc58b') 120\n"
       ]
      }
     ],
     "prompt_number": 32
    },
    {
     "cell_type": "code",
     "collapsed": false,
     "input": [
      "for i in xrange(10,20):\n",
      "    print i, r_server.lindex('hashes2', i)"
     ],
     "language": "python",
     "metadata": {},
     "outputs": [
      {
       "output_type": "stream",
       "stream": "stdout",
       "text": [
        "10 711b71141a83218388cdab84be36044c\n",
        "11 09193ba204f5f7abfe49d078ac4bd1e2\n",
        "12 b0e12672778f6ef5e466f1abfbb2a16a\n",
        "13 24f2d8eae580e13eb7710ea0ffd96ac5\n",
        "14 454462de406ff6bcd1dc0b72a243d980\n",
        "15 203fb84b53322f78e3a059859124742a\n",
        "16 876083680c7897dcb6befe97331e3ed8\n",
        "17 1c711d364121b14361d00f8f9cb1039b\n",
        "18 0d8fc9797ee8aae444c78287b43f94c3\n",
        "19 5c34a28fdbe1f911e08b4ee0c47dfe7c\n"
       ]
      }
     ],
     "prompt_number": 37
    },
    {
     "cell_type": "code",
     "collapsed": false,
     "input": [
      "r_server.delete(\"hashes\") # delete list"
     ],
     "language": "python",
     "metadata": {},
     "outputs": [
      {
       "output_type": "pyout",
       "prompt_number": 9,
       "text": [
        "True"
       ]
      }
     ],
     "prompt_number": 9
    },
    {
     "cell_type": "heading",
     "level": 3,
     "metadata": {},
     "source": [
      "POC Fuzzy hashing using redis set"
     ]
    },
    {
     "cell_type": "code",
     "collapsed": false,
     "input": [
      "for element in xrange(0,100):\n",
      "    buffer = hashing_byte_reader(fd, 18)\n",
      "    print buffer, r_server.sadd(\"hash_set2\", buffer[1])"
     ],
     "language": "python",
     "metadata": {},
     "outputs": [
      {
       "output_type": "stream",
       "stream": "stdout",
       "text": [
        "('\\xecO\\x8a\\x92K\\xd0\\x95c\\xa2u\\x1b_\\x9e\\xc2BO@\\xad', 'ff3b81af505a5c29b2c654da344b8ae4') 1\n",
        "('%\\x08\\xb5\\xe8\\x96|\\xa3\\xd3xj]\\xb1-}$E\\x91\\x13', '368f01dd5cb4a351ed3ab4c21724f277') 1\n",
        "('R\\xd4\\xa0\\x8f\\xc4-uF}\\xa1\\xb3\\xcb\\xd1\\x006\\xabtG', '9c5ecc96be94037921ddfac7d410457c') 1\n",
        "('\\x1a\\x8a\\xfd\\x1eC\\xea\\xbbU\\xb1\\xad\\x93\\xb4q\\x99\\xd6)\\x16\\x1d', 'eb577115a23040ec9bb136615a1ba1b5') 1\n",
        "('@J\\xbd\\x91.k\\x83*\\xe7[\\xe2YL^\\x12\\\\\\x9bT', '789003a0d8ff8da25d137411f1625756') 1\n",
        "('^\\x7f\\x8c\\xe04\\x08\\xd9`\\x84\\xed\\xbej\\rznU7n', '3f3c7b11364f864b40d3238231f750e5') 1\n",
        "(\">$\\x05'\\xbfj\\xbd\\xa7\\xfc\\xaby3\\x92z\\xcfvqo\", '72d1246a3e540533b8f98233dbec2a80') 1\n",
        "('F\\xd2\\x89\\x80\\x80Pp\\xe6\\x93\\xee\\xf3\\xc1\\xa5\\xaa\\xcbA\\xd5\\x95', '5c9640ad0dc0941eae7622d49c4353e7') 1\n",
        "('\\xd2\\x1f\\xe9\\x19;\\xd9R\\x8e9\\xae\\xa7\\x11s\\x7f\\xff\\xedZ\\x83', 'a3d6a583a180bbaa95ed234a50abab61') 1\n",
        "('U\\xd2F\\x02\\x00~H7\\xa8\\xa0mS\\xcb\\xc3\\xfd\\xe9\\xa4\\x1c', '7613b1e662b31339bc26ee2c3920a96b') 1\n",
        "(\"\\x85\\xd7't\\xbe\\xac\\xde\\xb5\\xdc\\xb6(\\xa3hx\\xb8\\x95\\x97 \", '1490a9620f2aca2a8851c539dc097b9c') 1\n",
        "('\\xa3\\xbaI\\x19\\xb5\\xe0<\\xd6\\xda\\rW<\\x0bK\\xe6\\n\\x9b\\x83', '6acb94410f1f774f61ef0a3dee80d4d7') 1\n",
        "(\"\\x87\\xee\\x9d\\xf0\\xe6\\x9bN'\\x93\\xfc\\xd4w\\xcc\\xabo\\xcd\\xb6\\x12\", '062e34a0542a20adca3ac064390e03e3') 1\n",
        "('d\\xd64\\x1dz\\xd0\\x14=\\x01\\xd2l\\x8b\\x87\\x1e4\\xea\\xd6j', '154f4325e7ecd24bf964733020c59002') 1\n",
        "('^\\xbf\\xecN\\x83\\xe8\\xe5\\xb1\\x9e\\xb1!\\xa0\\xe7\\xbb\\xa9\\xdakO', '86ac421f3c7b7ae21bdf9d9b5ea24708') 1\n",
        "('\\xf2\\xbc=\\xf5\\xd3x\\xea\\x9a\\xfd\\xb8?\\xdcc=Kl\\x1b0', '7f8fd909db720a201c75a61fddf06330') 1\n",
        "('\\x8f\\x813\\xda7\\x95\\xd5E\\xc6\\xcfr0fh}\\x0e\\xb4\\x9d', 'ef2a42e122fd3401da53f8e41159423f') 1\n",
        "('\\x85\\x89\\x82{g\\x9eY\\xd5wP]x\\x06\\xc7J\\xd0\\xbf3', 'a2676a9a34978768853b97f268279c6f') 1\n",
        "(\"\\xaa+6\\x87\\x9f\\x9b\\x0f+'\\xce\\xe0Xto\\xd4\\xca\\x16\\xcf\", '8c9e20a49c4d21be2e4c3c259b29fd60') 1\n",
        "('\\x8d\\x99D\\xe1\\xddr\\xab\\xf4\\xbc\\xa4\\x96\\xe0\\x12\\xd1\\x93\\xf8\\xb6\\x7f', 'be1ed929864f0d7177f2e30fefcfc361') 1\n",
        "('\\xf4\\xd2S0\\xbb\\xa8\\xdb%\\xfb\\x99\\xf79\\xe59\\xb5$e\\xde', '8267f00b5f05c3a00891a9a8467977f9') 1\n",
        "('\\x17\\xe6$\\x95D-z\\xf8;\\xa5\\x8d\\x04\\xf1\\xa3\\xbe\\xca\\xac\\xc3', '6e2144e47efe64a19c99500b156d14c4') 1\n",
        "('9\\xd5\\xe0\\xf2 {.\\xed\\x86\\xb6A\\x0f\\x00\\xa3\\xb9\\x80\\xf8\\xc8', '6c9cb4aeb615c5c687895417cea98c74') 1\n",
        "('V\\xe3\\xfa\\x01l\\x8d7)<\\xb3\\xa8\\xf0Vp\\xf0b)\\xbf', '01f25f0ff30c6fe89e7b2228ed7f0ca5') 1\n",
        "('\\x07\\xa36\\xe8\\xb6\\xc20\\xe6\\xee\\xb0\\x0fXww\\x86\\xbe\\xe7k', 'f23f4f80a5a78da923210acc87a4028f') 1\n",
        "('\\xe8o\\xa6\\xd2\\x1d\\xe7a\\x1e\\xfacI_\\x13=\\xeb\\x96Fo', '3812c9b094aa6cfbc882cecdb59c2b6e') 1\n",
        "('\\x00\\x90\\xf4\\x9fN\\x7f\\x97-{\\xd6\\xccj\\xe7F\\x01\\xf2\\x9c\\x84', '103cb9bdb6e0e85938fc6c50edb40230') 1\n",
        "('v]\\xf4PU|\\xa8>q\\x1a\\xe7\\xb9\\xe9\\xc2G\\xcd\\x15Q', 'd59d3d34f954a7d9132661e288a2d09c') 1\n",
        "('\\x8a\\x9a+\\xeb\\xad\\xc8\\x17\\xae^`\\x87\\xa2\\xfe\\x12\\xad\\xef\\x94\\xee', '321bfb906800fdc3bc33d997a95d5664') 1\n",
        "('qT5*A\\xe2\\xb4\\x99\\xe8O\\xa6h\\x8aC\\x9eS\\x03\\xb7', '96a92801a60695b2212a8a6bf4c3c9ce') 1\n",
        "('!\\xac\\x16u\\x8ahC\\x99\\x0eyN\\x83;\\xbaV\\x01\\x9c\\xbd', '9eff98ebd95ed6304169e5305559cbc1') 1\n",
        "(\"\\xdd\\x0c \\xd7\\xbc6y>\\x86\\xab'\\xd2\\x01r\\x89\\x06/3\", 'a140c73cde9027cd5d7c6b54591113e6') 1\n",
        "('\\xd9\\x9a#A\\x8f\\x80\\x97t\\x12x4\\xf7\\x0e\\x14\\xad.l\\xfb', '519823f3b8e8a6b00fab92d750a15e19') 1\n",
        "('\\x18\\xed\\x05~\\xc25\\x92\\xec\\x82{\\xbf\\xe8xx\\xa2+d\\xab', 'bfbbd14f012e956f75ead31455281086') 1\n",
        "('\\x0e\\xd4\\xa1\\x87<G|\\n\\x87#>\\x85\\xd7\\xbc\\x93x\\x1cj', '7b3e00f19ed318b32ae913d3feced65d') 1\n",
        "('\\xd50\\xc2\\xeey}\\x7f\\xbc\\xa6Zx\\xadQZ\\xef\\xb8\\xd5\\xcd', 'ae172e50611fa100d8a764854e6e5cff') 1\n",
        "('\\x17\\x18E7\\xb5^\\xdc\\x9b\\x1c.\\xd1\\t\\xaf[\\xde\\xdfB\\xeb', '179210b176164344846e23b1f9d63a3d') 1\n",
        "('\\x88{`\\x9d\\x8e\\x9f\\xe4C\\x86\\xdbi\\xd4sZ\\xdd\\xcb\\t\\x03', 'db16dea96bf00dbc294e7507364aa8c7') 1\n",
        "('0\\xdf\\xd4\\x02\\xdd \\xce\\xca\\xb5w<\\xee<m\\x94\\x1aV\\xc2', '69e394e2c6333416ed9611664cc996e2') 1\n",
        "('\\xee\\x19\\x8c\\x97\\xae\\n\\xd9\\xa2f\\x86\\xb7\\x195\\xaf\\xd1#_\\xa0', 'f8e5ce5f52774aa5e32369e91a79c4a1') 1\n",
        "('\\xa2\\x7fX\\xf52aV\\x8e.\\x86k\\xf7d\\x86\\xf3\\x00\\x86\\xf7', '1adb949018f968fc1e9be844102128fe') 1\n",
        "('\\xafjw\\xdb\\xb3\\x80?w\\x80\\xadQ\\x1d\\xae\\xab\\x1e\\xa4\\xcf\\xdb', '011bd01a2044422c4696a5f9cab479de') 1\n",
        "('\\x8f\\x05\\x9a\\xbdg\\x13\\x00n+\\xca\\xce\\xb9T\\xde\\xe1\\xec\\xab<', 'eb01915626ab1788bc07d96e25182038') 1\n",
        "(\"'\\xde\\xad\\x05\\xf6-\\xf6\\x7fV\\x95\\x87\\xb5\\xf0\\xee\\xd7A\\x01j\", 'f46dc3520d595c0a67a9ed734c39be6a') 1\n",
        "('tV\\x96\\xb2\"\\x05XZ\\xd2u\\x9d\\xfb\\x9c\\xb7Y\\xb7\\x8a\\xbc', 'c12471feb75deb22eb5b08f933f39135') 1\n",
        "('\\xb0}N\\xd1\\xff\\x8b\\x10\\x8b\\xdcv9~\\x99C\\xd5(xl', 'cfa9779961611798bd5fe6ee120abcc3') 1\n",
        "('/\\xb7\\xdc\\xdf\\xa1Zt\\x04\\x1e(\\x98N\\x8eF(\\xa0\\xde\\n', '89dd4fc1026009806678ea2260ff260b') 1\n",
        "('\\xbc(\\xee\\xf06g+[\\xdf\\xa8n-\\x8c\\xb5\\xae\\xf9`\\xdf', '48637823ff29cdf093cd1728afd8dc00') 1\n",
        "('s\\x0f4\\xceIk\\x11\\xdc[\\r\\x0cO\\x0b\\xc2\\xd7\\x14\\xd0x', '1b98d357ff6bac34dcc721e65725eb4d') 1\n",
        "('\\r\\xef!6[\\xd1I\\xb2%\\x15B)\\xaa\\x10\\x9a_\\xae\\xf3', '7343c883c9a862d338c39837db741fda') 1\n",
        "('u`\\x83K\\x94\\x8d\\xb2\\xa2p\\xc2Y&P%\\x8c\\x95\\xfb\\x07', 'f86fcc5cf4d5f3d9ab929614e062b9ba') 1\n",
        "('5o\\xe0\\xa7\\xe9-\\x8e\\xdd]a.\\xb3\\x1c=\\x10\\xa0m#', '6f3cd147facd9f3279b4ff774383ed1d') 1\n",
        "('g\\xb8\\x1f\\x8d[mz0\\xea:-\\x1av\\xaf\\x0b\\xca\\xd3\\xc9', 'ca6b4d518d28c4e90bffb6d0cccc9e64') 1\n",
        "('\\x8e\\xddk\\xb4oS\\x0e\\xc2\\x13\\x83\\xdbJ4VhyE\\xc7', '74fbd0f776137c706cfa1c70225037fb') 1\n",
        "('\\xa5o\\xcf\\x13G\\xcf\\x85\\xd9\\nb\\r\\x0b\\xf1\\xf4\\x14\\x1f\\x12\\xd6', '0b33531f606246ee23223c52566b7421') 1\n",
        "('\\x1b\\xee\\xbf\\xf1z\\xe1\\x14yP\\x15\\xfa\\x1dM%DS\\x8b:', 'fa1ed447bf51617518083796038ed9e1') 1\n",
        "('S&\\x1bQ\\x9b\\xe3X5\\xbaD\\xb4\\xb6\"\\xafi\\xe1\\t\\xd3', '741f8f261602d24bc90b108c17306562') 1\n",
        "('\\xba\\x1f\\xa4\\xb8P\\x8e\\x94Rt\\x19h\\xb6\\xf1\\x8d]J\\xd1\\xc5', '17240b59f30e9e7321e47d962c416aad') 1\n",
        "('\\x0eX\\xd9\\xe4\\xd2\\x0f\\xfd\\xd6\\xa7m\\x14\\xa5hv8\\xa5\\xee\\xab', '714b30851a7d4d94d9f313a23db6467c') 1\n",
        "(\"\\x9d\\xe7\\x00\\xcf'\\x81\\x97\\xb0\\xf0i\\x93\\xb9\\x9c\\xe8\\xf7I\\x0e\\xa2\", '6d601a07b877aa6d4af7b268aa4d0081') 1\n",
        "('\\x9b\\xe1`k#F\\xfb\\x99\\xeb[J-\\xac\\x06+\\xd8.\\xbf', 'd129a85794df8be281b06e3a002b988f') 1\n",
        "('\\xc6\\x12\\x9f\\x92r\\x94\\x82\\xdbN\\xdd\\x17\\xc5\\xed)\\x9c\\x0bJk', '788e232a8b225b335ea82b90ff4341cb') 1\n",
        "('\\xc8\\x05=\\xb1]z\\x93\\xfd4\\xea\\x9f\\x1dz\\x96\\xa4s4b', '77ada8400c379bc424af8a7621fd3b01') 1\n",
        "('Gy+\\xcb\\xd8s\\x84\\xd7=\\xfe\\xb64 \\xee\\xbf\\x19z\\x99', 'a5a098bd9382a45c6aaa5059cdcef5dd') 1\n",
        "('\\x83\\x99\\x95\\xa2\\x8a)\\xb2~\\xcb\\x1a\\x80\\xa1\\xab:ks\\xb5\\xa1', '76edf5bb53f5535a9fe8ddbe5f7958a9') 1\n",
        "('\\xd6\\xfd\\x18\\xe4\\xc2\\x80\\xe0\\xdf\\xf5\\x01\\xb4\\xd4y0\\x9a\\xb3g#', 'e82aa61c4b3f2c281db3dbe468e2d329') 1\n",
        "('X\\xf3\\x9a\\xb7\\xa8\\x8f\\x03,a\\x80\\xb4\\xf1`\\x12\\x00D\\x17\\xa5', '7633a962aa998a17d9fd58847d7d434e') 1\n",
        "('t\\xdbx\\xeb\\xd5\\xc6\\xdf\\x15\\xf6\\x93Nf\\xeeE\\xba\\xd5%\\x9c', '7ec292411768bc8442084258a349416f') 1\n",
        "('\\xb54\\xb9\\xbd2\\x10.\\x1c\\x04\\xd1\\x88*Q\\xf7\\x88\\xeaY\\x00', '6b40ca0605e0f2b44f28e687a08b17ec') 1\n",
        "('KNQ\\x80\\xbd\\xc2\\xaa\\xcf]\\x8a\\x1d\\xc7\\x1aMQ\\x06+\\xfd', '032a2f6563f067502830bfbde77e794c') 1\n",
        "('C\\x8d\\x97l\\xa3\\x03\\x01E\\x8f\\xa4\\xd352\\x96{\\x1dI\\xa7', '17f1a34f8d79ce791e17d25cf4f43882') 1\n",
        "('R\\xa3\\xcb\\xd0\\xc2\\xfd\\xa3i\\x8b\\x86\\x16\\x0e\\x14\\xb4\\x1a\\xa5@^', '9bbe4a546d7274ce6b37ea58a8070532') 1\n",
        "('@\\xf2I\\x00f\\xbb\\xa1\\xb3\\xb9t\\xdf\\xad\\xcf\\x9a\\xf4&\\x82\\xe1', 'dd73ebdcb29170c9bc49b9e663e95c63') 1\n",
        "('\\xf4r\\x0e\\xaa\\x02\\xcddG\\x07\\x14Z\\xd4\\xf6r\\xee\\xbfW\\xb9', 'e94e2d0257576f0dc13eab93c6a0b78d') 1\n",
        "('\\x98\\xed\\xe5\\x1a]\\x1dq\\xe9\\xbd\\x9b\\xb3\\xb4&\\xd7\\xad/\\xf7X', '62ee03f93238268220f633f88139a980') 1\n",
        "('\\xa3\\xb3\\x06\\xaf\\xda\\xd3].\\x10\\xcf+\\xc8\\x03\\xb9L\\xa65k', 'f697860bef57ef76cab59772a6e7ba7b') 1\n",
        "('T\\xa6\\xb6\\xa9$\\x9e\\x03@\\x8ez\\xf4\\x95\\xb6y\\xc6\\xf0\\xa4\\xb7', '15af8ff927244e238936fb613415f2e2') 1\n",
        "('W%\\xba\\x80\\xab\\xdc\\xdf\\xcf\\xbfl\\x01\\x17N\\xab\\x06+\\xb4\\xd1', '1748e9efaad3a76dbfcea072e1a6c65d') 1\n",
        "('\\xc5j\\x00[\\xf7\\xdc\\xe9K\\xed\\x92\\xa4\\xb0\\x1c\\xd7d\\x83\\xaf\\x93', 'b2858fa3940a7353b2e2edc2fba3b8de') 1\n",
        "('\\xeb@\\x92\\xa3K\\xd6UeQ/J\\x01E\\xc3lB+:', '18338d2119934c297c820f12f8dfb056') 1\n",
        "('\\x00r\\xa9=\\x93p\\x88]H\\x87\\xd5\\x87\\xd8\\x0f\\xb0\\xc2S\\x92', '9d5298865ac14becaed861638b2d0cdc') 1\n",
        "('\\xf0\\x06\\xa3\\xc2\\xe8\\xf6\\x94\\xa3\\xe2Hy_\\xa8\\xfb\\xc2\\xbc\\x08\\x94', '692cdb0402195bd64e4390e9e8a75f8e') 1\n",
        "('\\xe9L\\x93\\x17(\\xba\\x1a\\x14YsR\\xdfq:&*\\x01U', '4e920eeaabfff83f376e1213b52c4707') 1\n",
        "('\\xd3\\xbe\\xb0\\x07\\xaf{\\xa6\\xf6\\x9b\\xd2\\x01\\x16\\xdaF\\xce\\xef>\\xcf', '4bbb9c67e95d9afe2e6db63a71a39d14') 1\n",
        "('\\xca\\x01\\x98\\xedY1\\xda\\x17\\xf6\\xf4L\\xfe\\xb7\\x17\\xc2q[\\xe9', '0159444d935110bf01b1b82417ed51d4') 1\n",
        "('~\\xceya\\xc7\\xa6\\xa5\\xad\\x1e\\xdc\\x0e`{i\\x07\\x83\\xda\\x15', 'd7c9c20bd90de24e0e22c70f415f9dc0') 1\n",
        "('\\xc2\\xe7\\x0b\\xec\\x96\\xb6[.r\\xce\\x9a\\x1d[x\\x11\\xd3\\xea\\x0b', '0ede4ba705a3b455410bb597e42f1d9a') 1\n",
        "('\\xda\\x98i\\xe1\\xf8R\\xdb\\xfc\\xfaFS4,\\xd1V\\xb0\\xbe\\xb9', 'a179f0973ca9c86b8430a378fea4b13c') 1\n",
        "('A\\xa0_\\xd3\\xdaGe8\\xe1\\x1c5\\xd3\\x8a}\\xd6G\\xe9\\x07', 'a1be1422aedf482413bd60e285a379c0') 1\n",
        "(':e\\x96<\\xe1\\x94(\\x87\\xdd\\xd3\\xfe\\xc9\\xe5\\xcfA\\xce\\xf5\\xec', '3a40fcbb95fef3962e84530a77238f7a') 1\n",
        "('\\xc8\\xaf\\xae a\\xf2jC\\xb1\\xfb\\x9e\\xefy\\xe3\\xb3\\xb5\\xe8\\xf8', '75aba761e1945cd68593929a0f5d49a2') 1\n",
        "('\\\\Aj\\xe3b\\x11\\x02\\r\\xcf\\x9a\\xda:\\xe9\\xec\\xb5\\xc2\\x9c\\xda', '697f80f14228e6dee236cd20baec2fd0') 1\n",
        "('kj\\xbc,6`i\\x0e\\t\\xcc\\x19\\xed!\\xc3j]\\xa0.', 'd820922e7a04f3e1a635610a6956cead') 1\n",
        "(',0\\xcb\\x1b\\xc9\\xcd:\\x07[\\xa1\\xed\\xc4\\xdfL\\xa2aE\\xdb', 'fa306793acfa90b85cd5704e61670c0b') 1\n",
        "('J:\\xddq\\xac\\xe1\\xd5\\x94I\\xff\\x0c\\xd2\\xcb&\\x03\\xb3h\\x9a', '1f2040a4f1c686af05244c90fe258117') 1\n",
        "('\\xa4m}\\tUR\\n\\xeb\\xf0\\x0b\\xcb\\x03\\x01\\xf4\\x9b*\\xea\\x19', '7b7bed07322ae7514bf41c5fae8b6301') 1\n",
        "('r\\xfa\\x9f\\x00\\x03\\x00<\\xef\\xfd\\xe0\\rendstre', '8b36df05595d52df4fbcc07258b26550') 1\n",
        "('am\\rendobj\\r6945 0 o', 'bd127a510f5a8d1ca955c6ad6918e137') 1\n",
        "('bj\\r<</Filter/Flate', '2aaf353c611ca9e82dd2a8385352a6ba') 1\n",
        "('Decode/First 1887/', 'f26762736fdb5d82916838f69e4ec931') 1\n"
       ]
      }
     ],
     "prompt_number": 33
    },
    {
     "cell_type": "code",
     "collapsed": false,
     "input": [
      "first_set = r_server.smembers(\"hash_set\")\n",
      "second_set = r_server.smembers(\"hash_set\")\n",
      "third_set = r_server.smembers(\"hash_set2\")\n",
      "\n",
      "set_score = len(first_set.intersection(second_set))\n",
      "set_score"
     ],
     "language": "python",
     "metadata": {},
     "outputs": [
      {
       "output_type": "pyout",
       "prompt_number": 34,
       "text": [
        "110"
       ]
      }
     ],
     "prompt_number": 34
    },
    {
     "cell_type": "heading",
     "level": 3,
     "metadata": {},
     "source": [
      "Redis set intersection of Hash_set and Hashset2"
     ]
    },
    {
     "cell_type": "code",
     "collapsed": false,
     "input": [
      "len(r_server.sinter([\"hash_set\", \"hash_set2\"])) "
     ],
     "language": "python",
     "metadata": {},
     "outputs": [
      {
       "output_type": "pyout",
       "prompt_number": 35,
       "text": [
        "0"
       ]
      }
     ],
     "prompt_number": 35
    },
    {
     "cell_type": "code",
     "collapsed": false,
     "input": [
      "len(r_server.sinter([\"hash_set\", \"hash_set\"]))"
     ],
     "language": "python",
     "metadata": {},
     "outputs": [
      {
       "output_type": "pyout",
       "prompt_number": 36,
       "text": [
        "110"
       ]
      }
     ],
     "prompt_number": 36
    },
    {
     "cell_type": "code",
     "collapsed": false,
     "input": [],
     "language": "python",
     "metadata": {},
     "outputs": [],
     "prompt_number": 22
    },
    {
     "cell_type": "code",
     "collapsed": false,
     "input": [],
     "language": "python",
     "metadata": {},
     "outputs": []
    }
   ],
   "metadata": {}
  }
 ]
}