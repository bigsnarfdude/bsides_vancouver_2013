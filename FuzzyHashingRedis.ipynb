{
 "metadata": {
  "name": "FuzzyHashingRedis"
 },
 "nbformat": 3,
 "nbformat_minor": 0,
 "worksheets": [
  {
   "cells": [
    {
     "cell_type": "heading",
     "level": 2,
     "metadata": {},
     "source": [
      "Demo POC Fuzzy Hashing into redis"
     ]
    },
    {
     "cell_type": "heading",
     "level": 2,
     "metadata": {},
     "source": [
      "Setting up namespace"
     ]
    },
    {
     "cell_type": "code",
     "collapsed": false,
     "input": [
      "import time\n",
      "import struct\n",
      "import hashlib\n",
      "\n",
      "filename = \"/Users/antigen/Downloads/Python_for_Data_Analysis.pdf\""
     ],
     "language": "python",
     "metadata": {},
     "outputs": [],
     "prompt_number": 57
    },
    {
     "cell_type": "heading",
     "level": 2,
     "metadata": {},
     "source": [
      "Checking file object"
     ]
    },
    {
     "cell_type": "code",
     "collapsed": false,
     "input": [
      "memory_dump = open(filename, \"rb\")"
     ],
     "language": "python",
     "metadata": {},
     "outputs": [],
     "prompt_number": 59
    },
    {
     "cell_type": "code",
     "collapsed": false,
     "input": [
      "memory_dump"
     ],
     "language": "python",
     "metadata": {},
     "outputs": [
      {
       "output_type": "pyout",
       "prompt_number": 80,
       "text": [
        "<open file '/Users/antigen/Downloads/Python_for_Data_Analysis.pdf', mode 'rb' at 0x1079359c0>"
       ]
      }
     ],
     "prompt_number": 80
    },
    {
     "cell_type": "heading",
     "level": 2,
     "metadata": {},
     "source": [
      "Here I build a byte reader data structure to buffer reads 18 bytes at a time"
     ]
    },
    {
     "cell_type": "code",
     "collapsed": false,
     "input": [
      "def byte_reader(memory_dump, number_bytes):\n",
      "        '''\n",
      "        Read the bytes\n",
      "        '''\n",
      "        byte = memory_dump.read(number_bytes)\n",
      "        return byte\n"
     ],
     "language": "python",
     "metadata": {},
     "outputs": [],
     "prompt_number": 81
    },
    {
     "cell_type": "code",
     "collapsed": false,
     "input": [
      "byte_reader(memory_dump, 18)"
     ],
     "language": "python",
     "metadata": {},
     "outputs": [
      {
       "output_type": "pyout",
       "prompt_number": 82,
       "text": [
        "'792 0 obj\\r<</Filte'"
       ]
      }
     ],
     "prompt_number": 82
    },
    {
     "cell_type": "heading",
     "level": 2,
     "metadata": {},
     "source": [
      "This function reads and byte and creates and MD5"
     ]
    },
    {
     "cell_type": "code",
     "collapsed": false,
     "input": [
      "def hashing_byte_reader(memory_dump, number_bytes):\n",
      "        '''\n",
      "        Read the bytes and return MD5\n",
      "        '''\n",
      "        byte = memory_dump.read(number_bytes)\n",
      "        m = hashlib.md5()\n",
      "        m.update(byte)\n",
      "        hash_byte = m.hexdigest()\n",
      "        return byte, hash_byte"
     ],
     "language": "python",
     "metadata": {},
     "outputs": [],
     "prompt_number": 83
    },
    {
     "cell_type": "heading",
     "level": 2,
     "metadata": {},
     "source": [
      "POC rolling 18 byte block fuzzy hashing with redis in list"
     ]
    },
    {
     "cell_type": "code",
     "collapsed": false,
     "input": [
      "fd = open(filename, \"rb\")\n",
      "import redis\n",
      "\n",
      "r_server = redis.Redis(\"localhost\")\n",
      "\n",
      "for element in range (0,10):\n",
      "    buffer = hashing_byte_reader(fd, 18)\n",
      "    print buffer, r_server.rpush('hashes', buffer[1])"
     ],
     "language": "python",
     "metadata": {},
     "outputs": [
      {
       "output_type": "stream",
       "stream": "stdout",
       "text": [
        "('%PDF-1.6\\r%\\xe2\\xe3\\xcf\\xd3\\r\\n10', 'ea0e0911c88028d4f6ecaf2f8637279a') 1\n",
        "('792 0 obj\\r<</Filte', '32ce1917253bd45f6b0abbf0fec6d826') 2\n",
        "('r/FlateDecode/Firs', '7eec080cb28df7db11dc388693b25695') 3\n",
        "('t 125/Length 1447/', 'b5446341cb87952738fed39d5da26928') 4\n",
        "('N 12/Type/ObjStm>>', 'fbfb2ba40ede03ebe7612c4fdfe7d91d') 5\n",
        "('stream\\r\\nh\\xde\\xbcWYo\\xdbF\\x10\\xfe', '9de4fa8d48e7dcb1fb89562db4c9da07') 6\n",
        "('+\\xfb\\x98\\xa0p\\xf7>\\x08\\x04\\x06,;J\\x0c\\xc7M`9', '58b155dd84930783adaa158cabf04b02') 7\n",
        "('I\\x01\\x82\\x0f\\xb4E\\xcbl$R\\xa5\\xe8\"\\xfe\\xf7\\x9d\\x99\\x15', 'db87cb40eb410ce436101cd671bc69ac') 8\n",
        "(')RUs\\xa8@a\\x8c\\xf7\\xe0\\xee\\\\;\\xdf\\xccH\\n\\xa1', '7bf484366c1f24eb1c8c970c0de19b7b') 9\n",
        "('\\x12&\\x98\\x14B\\xc3\\xff\\x84&\\x92)\\xe5h\\xa6X\\x08\\x86f', '22e90ebd7bf0f97a61597af0692f9a83') 10\n"
       ]
      }
     ],
     "prompt_number": 85
    },
    {
     "cell_type": "code",
     "collapsed": false,
     "input": [
      "for i in xrange(10,20):\n",
      "    print i, r_server.lindex('hashes', i)"
     ],
     "language": "python",
     "metadata": {},
     "outputs": [
      {
       "output_type": "stream",
       "stream": "stdout",
       "text": [
        "10 ea0e0911c88028d4f6ecaf2f8637279a\n",
        "11 32ce1917253bd45f6b0abbf0fec6d826\n",
        "12 7eec080cb28df7db11dc388693b25695\n",
        "13 b5446341cb87952738fed39d5da26928\n",
        "14 fbfb2ba40ede03ebe7612c4fdfe7d91d\n",
        "15 9de4fa8d48e7dcb1fb89562db4c9da07\n",
        "16 58b155dd84930783adaa158cabf04b02\n",
        "17 db87cb40eb410ce436101cd671bc69ac\n",
        "18 7bf484366c1f24eb1c8c970c0de19b7b\n",
        "19 22e90ebd7bf0f97a61597af0692f9a83\n"
       ]
      }
     ],
     "prompt_number": 73
    },
    {
     "cell_type": "code",
     "collapsed": false,
     "input": [
      "r_server.delete(\"hashes\") # delete list"
     ],
     "language": "python",
     "metadata": {},
     "outputs": [
      {
       "output_type": "pyout",
       "prompt_number": 74,
       "text": [
        "True"
       ]
      }
     ],
     "prompt_number": 74
    },
    {
     "cell_type": "heading",
     "level": 3,
     "metadata": {},
     "source": [
      "POC Fuzzy hashing using redis set"
     ]
    },
    {
     "cell_type": "code",
     "collapsed": false,
     "input": [
      "for element in xrange(0,10):\n",
      "    buffer = hashing_byte_reader(fd, 18)\n",
      "    print buffer, r_server.sadd(\"hash_set\", buffer[1])"
     ],
     "language": "python",
     "metadata": {},
     "outputs": [
      {
       "output_type": "stream",
       "stream": "stdout",
       "text": [
        "('j\\r<</Filter/FlateD', 'e48391fcf98df8cf6c862a25f2a0c566') 1\n",
        "('ecode/First 17/Len', 'c971b2c24ca55eeb87a8520589c383f1') 1\n",
        "('gth 143/N 2/Type/O', 'b46ab0aa62db2b3879d0ff97fa8030e1') 1\n",
        "('bjStm>>stream\\r\\nh\\xdeT', '839d17aa1c1955bf06eafa0d0a6245c4') 1\n",
        "('\\x8e\\xc1\\n\\xc20\\x0c\\x86_%O\\xb0\\xa4\\xda4-\\x8c\\x1d\\xe6', 'dbb0f4a8b05a5ffd7cd01e51ef014552') 1\n",
        "('\\xd1\\xcb(\\xde\\xc6\\x0e\\x83\\x15\\x11\\xc4\\x89S\\xd0\\xb77\\xae\\x15\\xf1', '4359396ecc60441c9a42d7e2cbffd92c') 1\n",
        "('\\x92\\xfc\\xf0\\xf3}\\x89!\"\\x0b\\x04F7\\x83g\\xa8kl\\xcf', '30cd5a00c792d0c8f4ecf080189f5ae9') 1\n",
        "(')M\\xed\\xfc\\xecI\\x0b\\x0e\\\\m\\x84\\xdd\\x16\\xbc5\\x95\\xf7A', 'ccc20387d942d36b8b6d4f8eca67d451') 1\n",
        "('d\\xc0\\xdd\\xfc\\xb8\\xdc\\xc1\\n\\xe1\\xfe4-}\\x86\\t\\xa2j\\xc4', 'de79bfc3463b2a54321c8f0443008042') 1\n",
        "('}tq\\xc0\\xc3\\xeb\\x9a\\xb0\\x1b\\x8fii\\x1a\\x95fD\\xbe\\x80', '3c23591abb7b9d864c3c62c4f6066c3c') 1\n"
       ]
      }
     ],
     "prompt_number": 84
    },
    {
     "cell_type": "code",
     "collapsed": false,
     "input": [
      "first_set = r_server.smembers(\"hash_set\")\n",
      "second_set = r_server.smembers(\"hash_set\")\n",
      "\n",
      "set_score = len(first_set.intersection(second_set))\n",
      "set_score"
     ],
     "language": "python",
     "metadata": {},
     "outputs": [
      {
       "output_type": "pyout",
       "prompt_number": 79,
       "text": [
        "100"
       ]
      }
     ],
     "prompt_number": 79
    }
   ],
   "metadata": {}
  }
 ]
}