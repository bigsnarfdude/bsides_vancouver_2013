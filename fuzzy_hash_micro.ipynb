{
 "metadata": {
  "name": "fuzzy_hash_micro"
 },
 "nbformat": 3,
 "nbformat_minor": 0,
 "worksheets": [
  {
   "cells": [
    {
     "cell_type": "heading",
     "level": 2,
     "metadata": {},
     "source": [
      "Demo POC for doing fuzz hash of two files and comparing them. \n",
      "First part uses python sets for similarity comparison of files\n",
      "Data is stored in a hyperloglog data structure. \n",
      "WIP: Redis integration and Jaccard based similarity index\n"
     ]
    },
    {
     "cell_type": "heading",
     "level": 2,
     "metadata": {},
     "source": [
      "Setup of fuzzy hasher"
     ]
    },
    {
     "cell_type": "code",
     "collapsed": false,
     "input": [
      "import time\n",
      "import struct\n",
      "import hashlib"
     ],
     "language": "python",
     "metadata": {},
     "outputs": [],
     "prompt_number": 10
    },
    {
     "cell_type": "heading",
     "level": 2,
     "metadata": {},
     "source": [
      "Open a file in a variable memory_dump"
     ]
    },
    {
     "cell_type": "code",
     "collapsed": false,
     "input": [
      "filename = \"test.pdf\"\n",
      "filename2 = \"Python_for_Data_Analysis.pdf\""
     ],
     "language": "python",
     "metadata": {},
     "outputs": [],
     "prompt_number": 11
    },
    {
     "cell_type": "code",
     "collapsed": false,
     "input": [
      "file_dump = open(filename, \"rb\")\n",
      "file_dump2 = open(filename2, \"rb\")"
     ],
     "language": "python",
     "metadata": {},
     "outputs": [],
     "prompt_number": 16
    },
    {
     "cell_type": "code",
     "collapsed": false,
     "input": [
      "file_dump"
     ],
     "language": "python",
     "metadata": {},
     "outputs": [
      {
       "output_type": "pyout",
       "prompt_number": 17,
       "text": [
        "<open file 'test.pdf', mode 'rb' at 0x10b0c24b0>"
       ]
      }
     ],
     "prompt_number": 17
    },
    {
     "cell_type": "code",
     "collapsed": false,
     "input": [
      "file_dump2"
     ],
     "language": "python",
     "metadata": {},
     "outputs": [
      {
       "output_type": "pyout",
       "prompt_number": 18,
       "text": [
        "<open file 'Python_for_Data_Analysis.pdf', mode 'rb' at 0x10b0c25d0>"
       ]
      }
     ],
     "prompt_number": 18
    },
    {
     "cell_type": "heading",
     "level": 2,
     "metadata": {},
     "source": [
      "Here I build a byte reader data structure to buffer reads 18 bytes at a time"
     ]
    },
    {
     "cell_type": "code",
     "collapsed": false,
     "input": [
      "def byte_reader(memory_dump, number_bytes):\n",
      "        '''\n",
      "        Read the #number_byte of bytes\n",
      "        '''\n",
      "        byte = memory_dump.read(number_bytes)\n",
      "        return byte"
     ],
     "language": "python",
     "metadata": {},
     "outputs": [],
     "prompt_number": 19
    },
    {
     "cell_type": "code",
     "collapsed": false,
     "input": [
      "byte_reader(file_dump, 32)"
     ],
     "language": "python",
     "metadata": {},
     "outputs": [
      {
       "output_type": "pyout",
       "prompt_number": 20,
       "text": [
        "'%PDF-1.6\\r%\\xe2\\xe3\\xcf\\xd3\\r\\n10792 0 obj\\r<</F'"
       ]
      }
     ],
     "prompt_number": 20
    },
    {
     "cell_type": "code",
     "collapsed": false,
     "input": [
      "byte_reader(file_dump2, 32)"
     ],
     "language": "python",
     "metadata": {},
     "outputs": [
      {
       "output_type": "pyout",
       "prompt_number": 21,
       "text": [
        "'%PDF-1.6\\r%\\xe2\\xe3\\xcf\\xd3\\r\\n10792 0 obj\\r<</F'"
       ]
      }
     ],
     "prompt_number": 21
    },
    {
     "cell_type": "heading",
     "level": 2,
     "metadata": {},
     "source": [
      "This function reads and byte and creates and MD5"
     ]
    },
    {
     "cell_type": "code",
     "collapsed": false,
     "input": [
      "def hashing_byte_reader(memory_dump, number_bytes):\n",
      "        '''\n",
      "        Read the bytes and return MD5\n",
      "        '''\n",
      "        byte = memory_dump.read(number_bytes)\n",
      "        m = hashlib.md5()\n",
      "        m.update(byte)\n",
      "        hash_byte = m.hexdigest()\n",
      "        return byte, hash_byte"
     ],
     "language": "python",
     "metadata": {},
     "outputs": [],
     "prompt_number": 22
    },
    {
     "cell_type": "heading",
     "level": 2,
     "metadata": {},
     "source": [
      "POC rolling 32 byte block fuzzy hashing tool implemented in python"
     ]
    },
    {
     "cell_type": "code",
     "collapsed": false,
     "input": [
      "fd = open(filename, \"rb\")\n",
      "i=0\n",
      "hashes1=[]\n",
      "for element in range (0,1000000):\n",
      "    buffer, hash_result1 = hashing_byte_reader(fd, 32)\n",
      "    hashes1.append(hash_result1)"
     ],
     "language": "python",
     "metadata": {},
     "outputs": [],
     "prompt_number": 23
    },
    {
     "cell_type": "code",
     "collapsed": false,
     "input": [
      "hashes1[0:10]"
     ],
     "language": "python",
     "metadata": {},
     "outputs": [
      {
       "output_type": "pyout",
       "prompt_number": 24,
       "text": [
        "['0b9aae2fc0219bfc8ca095703051f6a6',\n",
        " '0ac9a2a31d63e42f81d7b493b462b926',\n",
        " 'd6f7c325bafaa698f6625fa15100bbd4',\n",
        " 'c883b66b289ffc56a183f39fcacf2c25',\n",
        " '713756ab10469749f77a3b62bf50b5f4',\n",
        " '6093548fcb86af4db1636fd29618fabb',\n",
        " 'bbb5d2c2a936a0aa070684935cc5a0c4',\n",
        " '459bae935b2773335a8b3c58424461f7',\n",
        " 'b6644bf3c01dda80fb246d6bfdf9d50a',\n",
        " '853f40e9d86c950c246e797bb4eb4699']"
       ]
      }
     ],
     "prompt_number": 24
    },
    {
     "cell_type": "code",
     "collapsed": false,
     "input": [
      "fd = open(filename2, \"rb\")\n",
      "i=0\n",
      "hashes2=[]\n",
      "for element in xrange(0,1000000):\n",
      "    buffer, hash_result = hashing_byte_reader(fd, 32)\n",
      "    hashes2.append(hash_result)"
     ],
     "language": "python",
     "metadata": {},
     "outputs": [],
     "prompt_number": 25
    },
    {
     "cell_type": "code",
     "collapsed": false,
     "input": [
      "hashes2[0:10]"
     ],
     "language": "python",
     "metadata": {},
     "outputs": [
      {
       "output_type": "pyout",
       "prompt_number": 26,
       "text": [
        "['0b9aae2fc0219bfc8ca095703051f6a6',\n",
        " '0ac9a2a31d63e42f81d7b493b462b926',\n",
        " 'd6f7c325bafaa698f6625fa15100bbd4',\n",
        " 'c883b66b289ffc56a183f39fcacf2c25',\n",
        " '713756ab10469749f77a3b62bf50b5f4',\n",
        " '6093548fcb86af4db1636fd29618fabb',\n",
        " 'bbb5d2c2a936a0aa070684935cc5a0c4',\n",
        " '459bae935b2773335a8b3c58424461f7',\n",
        " 'b6644bf3c01dda80fb246d6bfdf9d50a',\n",
        " '853f40e9d86c950c246e797bb4eb4699']"
       ]
      }
     ],
     "prompt_number": 26
    },
    {
     "cell_type": "code",
     "collapsed": false,
     "input": [
      "a=set(hashes1)\n",
      "b=set(hashes2)\n",
      "\n",
      "len(a)\n",
      "len(b)\n"
     ],
     "language": "python",
     "metadata": {},
     "outputs": [
      {
       "output_type": "pyout",
       "prompt_number": 27,
       "text": [
        "438662"
       ]
      }
     ],
     "prompt_number": 27
    },
    {
     "cell_type": "code",
     "collapsed": false,
     "input": [
      "a.intersection(b)\n",
      "len(a.intersection(b))"
     ],
     "language": "python",
     "metadata": {},
     "outputs": [
      {
       "output_type": "pyout",
       "prompt_number": 28,
       "text": [
        "2595"
       ]
      }
     ],
     "prompt_number": 28
    },
    {
     "cell_type": "code",
     "collapsed": false,
     "input": [
      "1/438662.0 < 2596/438662.0"
     ],
     "language": "python",
     "metadata": {},
     "outputs": [
      {
       "output_type": "pyout",
       "prompt_number": 29,
       "text": [
        "True"
       ]
      }
     ],
     "prompt_number": 29
    },
    {
     "cell_type": "heading",
     "level": 2,
     "metadata": {},
     "source": [
      "Demo to parse the mem file with 10 of 56 records each of length 18 "
     ]
    },
    {
     "cell_type": "code",
     "collapsed": false,
     "input": [
      "fd = open(filename, \"rb\")\n",
      "i = 0\n",
      "from hashlib import sha1\n",
      "from math import ceil\n",
      "from math import log\n",
      "from math import pow\n",
      "from sys import getsizeof\n",
      "from Interface import Interface\n",
      "from bitarray import bitarray\n",
      "import sys\n",
      "\n",
      "\n",
      "def get_SHA1_bin(word):\n",
      "    \"\"\"\n",
      "    Returns the SHA1 hash of any string\n",
      "    \"\"\"\n",
      "    hash_s = sha1()\n",
      "    hash_s.update(word)\n",
      "    return bin(long(hash_s.hexdigest(),16))[2:].zfill(160)\n",
      "\n",
      "\n",
      "def get_index(binString,endIndex=160):\n",
      "    \"\"\"\n",
      "    Returns the position of the first 1 bit \n",
      "    from the left in the word until endIndex\n",
      "    \"\"\"\n",
      "    res = -1\n",
      "    try:\n",
      "        res = binString.index('1')+1\n",
      "    except(ValueError):\n",
      "        res = endIndex\n",
      "    return res"
     ],
     "language": "python",
     "metadata": {},
     "outputs": [],
     "prompt_number": 30
    },
    {
     "cell_type": "heading",
     "level": 3,
     "metadata": {},
     "source": [
      "Class Sketch"
     ]
    },
    {
     "cell_type": "code",
     "collapsed": false,
     "input": [
      "class Sketch(Interface):\n",
      "    \"\"\"\n",
      "    Class implements a Hyperloglog probabilistic data structure \n",
      "    \"\"\"\n",
      "    \n",
      "    def __init__(self,max_cardinality):\n",
      "        \"\"\"Implementes a Hash Sketch\n",
      "        maxCardinality\n",
      "        this Sketch is able to count cardinalities up to cardinality *maxCardinality*\n",
      "        \"\"\"    \n",
      "        self.__maxCardinality=maxCardinality\n",
      "        self.__maxIndex = 0\n",
      "        self.__bitarray = bitarray(160)\n",
      "        self.__bitarray.setall(False)\n",
      "        self.__name = \"Sketch\"\n",
      "\n",
      "    def getName(self):\n",
      "        \"\"\"\n",
      "        Returns name\n",
      "        \"\"\"\n",
      "        return self.__name    \n",
      "    \n",
      "    def add(self,item):\n",
      "        \"\"\"\n",
      "        Adds the item to the Hash Sketch\n",
      "        \"\"\"\n",
      "        binword = get_SHA1_bin(item)\n",
      "        index = get_index(binword)\n",
      "        self.__bitarray[index]= True\n",
      "        self.__maxIndex = max(self.__maxIndex,index)\n",
      "\n",
      "    def get_raw_estimate(self):\n",
      "        \"\"\"\n",
      "        Returns the raw estimate of sets cardinality\n",
      "        \"\"\"\n",
      "        return self.__maxIndex\n",
      "\n",
      "    def get_number_estimate(self):\n",
      "       \"\"\"\n",
      "       Returns Linear Count estimate of the sets cardinality\n",
      "       \"\"\"\n",
      "       zerobits = self.__bitarray.count(False)\n",
      "       fraction = float(zerobits)/len(self.__bitarray)\n",
      "       res = -len(self.__bitarray)*log(fraction)\n",
      "       return res"
     ],
     "language": "python",
     "metadata": {},
     "outputs": [],
     "prompt_number": 31
    },
    {
     "cell_type": "heading",
     "level": 3,
     "metadata": {},
     "source": [
      "class SuperLogLogSketch"
     ]
    },
    {
     "cell_type": "code",
     "collapsed": false,
     "input": [
      "class SuperLogLogSketch(Interface):\n",
      "    \"\"\"\n",
      "    Implements the improved version of LogLog Sketches, SuperLogLog Sketches\n",
      "    \"\"\"\n",
      "    \n",
      "    def __init__(self, maxCardinality, error_rate):\n",
      "        \"\"\"\n",
      "        Implementes a SuperLogLog Sketch\n",
      "        *maxCardinality\n",
      "        this Sketch is able to count cardinalities up to cardinality *maxCardinality*\n",
      "       error_rate\n",
      "            the error_rate of the sketch when calculating the cardinality of the set\n",
      "        \"\"\" \n",
      "        if not (0 < error_rate < 1):\n",
      "            raise ValueError(\"Error_Rate must be between 0 and 1.\")\n",
      "        if not maxCardinality > 0:\n",
      "            raise ValueError(\"maxCardinality must be > 0\")\n",
      "\n",
      "        self._maxCardinality = maxCardinality\n",
      "        self._k = int(round(log(pow(1.05/error_rate,2),2)))\n",
      "        self._bucketNumber = 1<<self._k\n",
      "        self._bucketSize = int(ceil(log(log(float(self._maxCardinality)/self._bucketNumber+3,2),2)))\n",
      "        self._B = 1 << self._bucketSize\n",
      "        self.__name = \"SuperLogLogSketch\"\n",
      "        self._bucketList = [0 for _ in xrange(self._bucketNumber)]\n",
      "\n",
      "        \n",
      "    def getName(self):\n",
      "        \"\"\"\n",
      "        Returns name\n",
      "        \"\"\"\n",
      "        return self.__name\n",
      "        \n",
      "    def getNumberEstimate(self,beta = 0.7):\n",
      "        \"\"\"\n",
      "        Returns the estimate of the cardinality\n",
      "        Arguments:\n",
      "            beta= Used to get the truncated list. Keep only the *beta* smallest values and discard the rest\n",
      "        \"\"\"\n",
      "        newList = sorted(self._bucketList)\n",
      "        lastIndex = ceil(len(newList)*beta)\n",
      "        nbeta = lastIndex/len(newList)\n",
      "        newList = newList[:int(lastIndex)]\n",
      "        m = self._bucketNumber*nbeta\n",
      "        e = 0.39701 * m*2**((1.0/m)*sum(newList))\n",
      "        return e\n",
      "\n",
      "    def _restrition_rule(self,unrestricted_value):\n",
      "        return min(unrestricted_value,self._B)\n",
      "\n",
      "    \n",
      "    def add(self,item):\n",
      "        \"\"\"\n",
      "        Adds the item to the LogLog Sketch\n",
      "        \"\"\"\n",
      "        binword = get_SHA1_bin(item)\n",
      "        index = int(binword[:self._k],2)\n",
      "        self._bucketList[index] = self._restrition_rule(max(self._bucketList[index],getIndex(binword[self._k:],160-self._k)))\n"
     ],
     "language": "python",
     "metadata": {},
     "outputs": [],
     "prompt_number": 32
    },
    {
     "cell_type": "heading",
     "level": 3,
     "metadata": {},
     "source": [
      "class LogLogSketch"
     ]
    },
    {
     "cell_type": "code",
     "collapsed": false,
     "input": [
      "class LogLogSketch(Interface):\n",
      "    \"\"\"\n",
      "    Implements a LogLog Sketch\n",
      "    \"\"\"\n",
      "    \n",
      "    def __init__(self, maxCardinality, error_rate):\n",
      "        \"\"\"\n",
      "        Implementes a LogLog Sketch\n",
      "        *maxCardinality\n",
      "        this Sketch is able to count cardinalities up to cardinality *maxCardinality*\n",
      "        error_rate\n",
      "        the error_rate of the sketch when calculating the cardinality of the set\n",
      "        \"\"\" \n",
      "        if not (0 < error_rate < 1):\n",
      "            raise ValueError(\"Error_Rate must be between 0 and 1.\")\n",
      "        if not maxCardinality > 0:\n",
      "            raise ValueError(\"maxCardinality must be > 0\")\n",
      "\n",
      "        self._maxCardinality = maxCardinality\n",
      "        self._k = int(round(log(pow(1.30/error_rate,2),2)))\n",
      "        self._bucketNumber = 1<<self._k\n",
      "        self._bucketSize = self._wordSizeCalculator(self._maxCardinality)\n",
      "        \n",
      "        self._bucketList =[bitarray(self._bucketSize) for _ in xrange(self._bucketNumber)]\n",
      "        for barray in self._bucketList:\n",
      "            barray.setall(False)\n",
      "\n",
      "        self.__name = \"LogLogSketch\"\n",
      "        \n",
      "    def getName(self):\n",
      "        \"\"\"\n",
      "        Returns name\n",
      "        \"\"\"\n",
      "        return self.__name\n",
      "        \n",
      "    def add(self,item):\n",
      "        \"\"\"\n",
      "        Adds the item to the LogLog Sketch\n",
      "        \"\"\"\n",
      "        binword = get_SHA1_bin(item)\n",
      "        pos = int(binword[:self._k],2)\n",
      "        aux = getIndex(binword[self._k:],160-self._k)\n",
      "        index = min(aux,(1<<self._bucketSize)-1)\n",
      "        newValue = max(int(self._bucketList[pos].to01(),2),index)\n",
      "        self._bucketList[pos] = bitarray(bin(newValue)[2:])\n",
      "                                      \n",
      "    def getNumberEstimate(self): \n",
      "        \"\"\"\n",
      "        Returns the estimate of the cardinality\n",
      "        \"\"\"\n",
      "        m = self._bucketNumber\n",
      "        e = 0.39701 * m*2**((1.0/m)*sum([int(x.to01(),2) for x in self._bucketList]))\n",
      "        return e\n",
      "        \n",
      "    def __sizeof__(self):\n",
      "        return self._bucketNumber* self._bucketSize\n",
      "    \n",
      "    def _wordSizeCalculator(self,Nmax):\n",
      "        \"\"\"\n",
      "        Estimates the size of the memory Units, using the maximum cardinality as an argument\n",
      "        \"\"\"\n",
      "        return int(ceil(log(log(Nmax,2),2)))\n",
      "       "
     ],
     "language": "python",
     "metadata": {},
     "outputs": [],
     "prompt_number": 33
    },
    {
     "cell_type": "heading",
     "level": 3,
     "metadata": {},
     "source": [
      "class HyperLogLogSketch"
     ]
    },
    {
     "cell_type": "code",
     "collapsed": false,
     "input": [
      "class HyperLogLogSketch(Interface):\n",
      "    \"\"\"\n",
      "    Implements a HyperLogLog Sketch\n",
      "    \"\"\"\n",
      "    \n",
      "    def __init__(self, maxCardinality, error_rate):\n",
      "        \"\"\"Implementes a HyperLogLog Sketch\n",
      "        *maxCardinality\n",
      "        this Sketch is able to count cardinalities up to cardinality *maxCardinality*\n",
      "        error_rate\n",
      "        the error_rate of the sketch when calculating the cardinality of the set\n",
      "        \"\"\"\n",
      "        self.__ALPHA16=0.673\n",
      "        self.__ALPHA32=0.697\n",
      "        self.__ALPHA64=0.709\n",
      "            \n",
      "        if not (0 < error_rate < 1):\n",
      "            raise ValueError(\"Error_Rate must be between 0 and 1.\")\n",
      "        if not maxCardinality > 0:\n",
      "            raise ValueError(\"maxCardinality must be > 0\")\n",
      "\n",
      "        self._maxCardinality = maxCardinality\n",
      "        self._k = int(round(log(pow(1.04/error_rate,2),2)))\n",
      "        self._bucketNumber = 1<<self._k\n",
      "        self._bucketSize = self._wordSizeCalculator(self._maxCardinality)\n",
      "        self._bucketList =[0 for _ in xrange(self._bucketNumber)]\n",
      "        \n",
      "        self.__name = \"HyperLogLogSketch\"\n",
      "        self._alpha = self.__getALPHA(self._bucketNumber)\n",
      "\n",
      "\n",
      "    def __getALPHA(self,m):\n",
      "        if m <=16:\n",
      "            return self.__ALPHA16\n",
      "        elif m<=32:      \n",
      "            return self.__ALPHA32\n",
      "        elif m<=64:      \n",
      "            return self.__ALPHA64\n",
      "        else:            \n",
      "            return 0.7213/(1+1.079/float(m))\n",
      "           \n",
      "    def getName(self):\n",
      "        return self.__name\n",
      "        \n",
      "    def add(self,item):\n",
      "        \"\"\"\n",
      "        Adds the item to the LogLog Sketch\n",
      "        \"\"\"\n",
      "        binword = get_SHA1_bin(item)\n",
      "        pos = int(binword[:self._k],2)\n",
      "        #Retrives the position of leftmost 1 \n",
      "        aux = get_index(binword[self._k:],160-self._k)\n",
      "        # Sets its own register value to maximum value seen so far\n",
      "        self._bucketList[pos] = max(aux,self._bucketList[pos])\n",
      "                                      \n",
      "    def getNumberEstimate(self): \n",
      "        \"\"\"\n",
      "        Returns the estimate of the cardinality\n",
      "        \"\"\"\n",
      "        m = self._bucketNumber\n",
      "        raw_e = self._alpha*pow(m,2)/sum([pow(2,-x) for x in self._bucketList])\n",
      "        if raw_e <= 5/2.0*m: \n",
      "            v = self._bucketList.count(0)\n",
      "            if v!=0:\n",
      "                return m*log(m/float(v),2)\n",
      "            else:\n",
      "                return raw_e\n",
      "        elif raw_e <= 1/30.0*2**160: \n",
      "            return raw_e\n",
      "        else:\n",
      "            return -2**160*log(1-raw_e/2.0**160,2)\n",
      "        \n",
      "    def join(self,*HyperLogLogList):\n",
      "        \"\"\"\n",
      "        Joins the HyperLogLog Sketches passed as argument, with this HyperLogLog Sketch\n",
      "        \"\"\"\n",
      "        if HyperLogLogList:\n",
      "            for sketch in HyperLogLogList:\n",
      "                if type(sketch)!=type(self):\n",
      "                    raise TypeError(\"all arguments must be HyperLogLog Sketches\")           \n",
      "\n",
      "            bucketLists = zip(self._bucketList,*[sketch._bucketList for sketch in HyperLogLogList])\n",
      "            self._bucketList = map(max,bucketLists)\n",
      "        else:\n",
      "            raise TypeError(\"join expected at least 1 argument, got 0\")\n",
      "\n",
      "    def exclusion(self, something):\n",
      "        pass\n",
      "    \n",
      "    def __sizeof__(self):\n",
      "        return self._bucketNumber* self._bucketSize\n",
      "    \n",
      "    def _wordSizeCalculator(self,Nmax):\n",
      "        \"\"\"\n",
      "        Estimates the size of the memory Units, using the maximum cardinality as an argument\n",
      "        \"\"\"\n",
      "        return int(ceil(log(log(Nmax,2),2)))"
     ],
     "language": "python",
     "metadata": {},
     "outputs": [],
     "prompt_number": 34
    },
    {
     "cell_type": "heading",
     "level": 3,
     "metadata": {},
     "source": [
      "Testing a bunch of HyperLogLog Sketches "
     ]
    },
    {
     "cell_type": "code",
     "collapsed": false,
     "input": [
      "def bs(number):\n",
      "    \"\"\"\n",
      "    Returns the binary representation of the number given as argument\n",
      "    \"\"\"\n",
      "    return str(number) if number<=1 else bs(number>>1) + str(number&1)\n",
      "\n",
      "\n",
      "\n",
      "######################################\n",
      "#\n",
      "# make a bunch of hyperloglog sketches\n",
      "#\n",
      "######################################\n",
      "a = HyperLogLogSketch(2000000,0.05)\n",
      "b = HyperLogLogSketch(2000000,0.05)\n",
      "c = HyperLogLogSketch(2000000,0.05)\n",
      "    \n",
      "for i in xrange(100000):\n",
      "    a.add(str(i))\n",
      "for i in xrange(1500):\n",
      "    b.add(str(i))\n",
      "for i in xrange(100000,200000):\n",
      "    c.add(str(i))\n",
      "    \n",
      "#print sys.getsizeof(a)\n",
      "print \"1-100,000 random items put in set - Estimated count: \", a.getNumberEstimate()\n",
      "print \"1500 random items put in set - Estimated count: \", b.getNumberEstimate()\n",
      "print \"100,000-200,000 random items put in set - Estimated count: \", c.getNumberEstimate()\n",
      "print \"Making a joined set with items numbered 1-100k and 100k-200k\", c.join(a,a)\n",
      "print \"Here is the joined count: \", c.getNumberEstimate()"
     ],
     "language": "python",
     "metadata": {},
     "outputs": [
      {
       "output_type": "stream",
       "stream": "stdout",
       "text": [
        "1-100,000 random items put in set - Estimated count:  99402.5499907\n",
        "1500 random items put in set - Estimated count:  1530.86693324\n",
        "100,000-200,000 random items put in set - Estimated count:  109661.677392\n",
        "Making a joined set with items numbered 1-100k and 100k-200k None\n",
        "Here is the joined count:  208895.418605\n"
       ]
      }
     ],
     "prompt_number": 35
    },
    {
     "cell_type": "heading",
     "level": 3,
     "metadata": {},
     "source": [
      "Thousands of hashes stored into HyperLogLog Sketch"
     ]
    },
    {
     "cell_type": "code",
     "collapsed": false,
     "input": [
      "\"\"\"\n",
      "Demo to hash a bunch of blocks upto 1,000,000 blocks of 32 bytes blocks into Hyperloglog \n",
      "\"\"\"\n",
      "\n",
      "hash_store = HyperLogLogSketch(2000000,0.05)\n",
      "\n",
      "fd = open(\"/Users/antigen/Downloads/Python_for_Data_Analysis.pdf\", \"rb\")\n",
      "i=0\n",
      "\n",
      "for element in xrange(0,1000000):\n",
      "    buffer, hash_result = hashing_byte_reader(fd, 32)\n",
      "    hash_store.add(hash_result)"
     ],
     "language": "python",
     "metadata": {},
     "outputs": [],
     "prompt_number": 48
    },
    {
     "cell_type": "code",
     "collapsed": false,
     "input": [
      "hash_store.getNumberEstimate()"
     ],
     "language": "python",
     "metadata": {},
     "outputs": [
      {
       "output_type": "pyout",
       "prompt_number": 49,
       "text": [
        "448266.93955102086"
       ]
      }
     ],
     "prompt_number": 49
    },
    {
     "cell_type": "code",
     "collapsed": false,
     "input": [
      "#TODO: Need to figure out the intersection of two hash_stores"
     ],
     "language": "python",
     "metadata": {},
     "outputs": [],
     "prompt_number": 50
    },
    {
     "cell_type": "code",
     "collapsed": false,
     "input": [],
     "language": "python",
     "metadata": {},
     "outputs": []
    }
   ],
   "metadata": {}
  }
 ]
}