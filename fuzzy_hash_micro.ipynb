{
 "metadata": {
  "name": "fuzzy_hash_micro"
 },
 "nbformat": 3,
 "nbformat_minor": 0,
 "worksheets": [
  {
   "cells": [
    {
     "cell_type": "heading",
     "level": 2,
     "metadata": {},
     "source": [
      "Demo POC for scraping memory dumps of IP Addresses\n"
     ]
    },
    {
     "cell_type": "heading",
     "level": 2,
     "metadata": {},
     "source": [
      "How to extract data out of a Memory Dump"
     ]
    },
    {
     "cell_type": "code",
     "collapsed": false,
     "input": [
      "import time\n",
      "import struct\n",
      "import hashlib\n",
      "    \n",
      "\"\"\"\n",
      "Demo POC for scraping memory dumps of IP Addresses\n",
      "\"\"\"\n",
      "\n",
      "filename = \"test.pdf\""
     ],
     "language": "python",
     "metadata": {},
     "outputs": [],
     "prompt_number": 4
    },
    {
     "cell_type": "heading",
     "level": 2,
     "metadata": {},
     "source": [
      " ."
     ]
    },
    {
     "cell_type": "heading",
     "level": 2,
     "metadata": {},
     "source": [
      " ."
     ]
    },
    {
     "cell_type": "heading",
     "level": 2,
     "metadata": {},
     "source": [
      "Open a file in a variable memory_dump"
     ]
    },
    {
     "cell_type": "code",
     "collapsed": false,
     "input": [
      "filename2 = \"Python_for_Data_Analysis.pdf\""
     ],
     "language": "python",
     "metadata": {},
     "outputs": [],
     "prompt_number": 11
    },
    {
     "cell_type": "code",
     "collapsed": false,
     "input": [
      "memory_dump = open(filename, \"rb\")"
     ],
     "language": "python",
     "metadata": {},
     "outputs": [],
     "prompt_number": 5
    },
    {
     "cell_type": "code",
     "collapsed": false,
     "input": [
      "memory_dump"
     ],
     "language": "python",
     "metadata": {},
     "outputs": [
      {
       "output_type": "pyout",
       "prompt_number": 6,
       "text": [
        "<open file 'test.pdf', mode 'rb' at 0x10f381c00>"
       ]
      }
     ],
     "prompt_number": 6
    },
    {
     "cell_type": "heading",
     "level": 2,
     "metadata": {},
     "source": [
      "."
     ]
    },
    {
     "cell_type": "heading",
     "level": 2,
     "metadata": {},
     "source": [
      "."
     ]
    },
    {
     "cell_type": "heading",
     "level": 2,
     "metadata": {},
     "source": [
      "."
     ]
    },
    {
     "cell_type": "heading",
     "level": 2,
     "metadata": {},
     "source": [
      "."
     ]
    },
    {
     "cell_type": "heading",
     "level": 2,
     "metadata": {},
     "source": [
      "Here I build a byte reader data structure to buffer reads 18 bytes at a time"
     ]
    },
    {
     "cell_type": "code",
     "collapsed": false,
     "input": [
      "def byte_reader(memory_dump, number_bytes):\n",
      "        '''\n",
      "        Read the bytes\n",
      "        '''\n",
      "        byte = memory_dump.read(number_bytes)\n",
      "        return byte\n"
     ],
     "language": "python",
     "metadata": {},
     "outputs": [],
     "prompt_number": 7
    },
    {
     "cell_type": "code",
     "collapsed": false,
     "input": [
      "byte_reader(memory_dump, 18)"
     ],
     "language": "python",
     "metadata": {},
     "outputs": [
      {
       "output_type": "pyout",
       "prompt_number": 8,
       "text": [
        "'%PDF-1.6\\r%\\xe2\\xe3\\xcf\\xd3\\r\\n10'"
       ]
      }
     ],
     "prompt_number": 8
    },
    {
     "cell_type": "heading",
     "level": 2,
     "metadata": {},
     "source": [
      "."
     ]
    },
    {
     "cell_type": "heading",
     "level": 2,
     "metadata": {},
     "source": [
      "."
     ]
    },
    {
     "cell_type": "heading",
     "level": 2,
     "metadata": {},
     "source": [
      "."
     ]
    },
    {
     "cell_type": "heading",
     "level": 2,
     "metadata": {},
     "source": [
      "This function reads and byte and creates and MD5"
     ]
    },
    {
     "cell_type": "code",
     "collapsed": false,
     "input": [
      "def hashing_byte_reader(memory_dump, number_bytes):\n",
      "        '''\n",
      "        Read the bytes and return MD5\n",
      "        '''\n",
      "        byte = memory_dump.read(number_bytes)\n",
      "        m = hashlib.md5()\n",
      "        m.update(byte)\n",
      "        hash_byte = m.hexdigest()\n",
      "        return byte, hash_byte"
     ],
     "language": "python",
     "metadata": {},
     "outputs": [],
     "prompt_number": 9
    },
    {
     "cell_type": "heading",
     "level": 2,
     "metadata": {},
     "source": [
      "."
     ]
    },
    {
     "cell_type": "heading",
     "level": 2,
     "metadata": {},
     "source": [
      "."
     ]
    },
    {
     "cell_type": "heading",
     "level": 2,
     "metadata": {},
     "source": [
      "."
     ]
    },
    {
     "cell_type": "heading",
     "level": 2,
     "metadata": {},
     "source": [
      "POC rolling 18 byte block fuzzy hashing tool implemented in python"
     ]
    },
    {
     "cell_type": "code",
     "collapsed": false,
     "input": [
      "fd = open(filename, \"rb\")\n",
      "i=0\n",
      "hashes1=[]\n",
      "for element in range (0,100):\n",
      "    buffer, hash_result2 = hashing_byte_reader(fd, 18)\n",
      "    hashes1.append(hash_result2)\n",
      "    print buffer, hash_result2"
     ],
     "language": "python",
     "metadata": {},
     "outputs": [
      {
       "output_type": "stream",
       "stream": "stdout",
       "text": [
        "%PDF-1.6\r",
        "%\ufffd\ufffd\ufffd\ufffd\r\n",
        "10 ea0e0911c88028d4f6ecaf2f8637279a\n",
        "792 0 obj\r",
        "<</Filte 32ce1917253bd45f6b0abbf0fec6d826\n",
        "r/FlateDecode/Firs 7eec080cb28df7db11dc388693b25695\n",
        "t 125/Length 1447/ b5446341cb87952738fed39d5da26928\n",
        "N 12/Type/ObjStm>> fbfb2ba40ede03ebe7612c4fdfe7d91d\n",
        "stream\r\n",
        "h\u07bcWYo\ufffdF\u0010\ufffd 9de4fa8d48e7dcb1fb89562db4c9da07\n",
        "+\ufffd\ufffd\ufffdp\ufffd>\b\u0004\u0006,;J\f",
        "\ufffdM`9 58b155dd84930783adaa158cabf04b02\n",
        "I\u0001\ufffd\u000f\ufffdE\ufffdl$R\ufffd\ufffd\"\ufffd\ufffd\ufffd\ufffd\u0015 db87cb40eb410ce436101cd671bc69ac\n",
        ")RUs\ufffd@a\ufffd\ufffd\ufffd\ufffd\\;\ufffd\ufffdH\n",
        "\ufffd 7bf484366c1f24eb1c8c970c0de19b7b\n",
        "\u0012&\ufffd\u0014B\ufffd\ufffd\ufffd&\ufffd)\ufffdh\ufffdX\b\ufffdf 22e90ebd7bf0f97a61597af0692f9a83\n",
        "\ufffdI)\ufffdg\ufffd\ufffdV\ufffd\ufffd2i\ufffd8\ufffd\u000b",
        "ND 8dd0e73c0cf55568a427244b37accd51\n",
        "F\ufffdI/\ufffdn\u0000\ufffd.\ufffdJ\ufffd\ufffdqj\u0004S\ufffd 72a4c2eca2462e7687640c09db25aac4\n",
        "\ufffd\ufffd\ufffd+~Ql\ufffd\r",
        "3AjP\ufffd\ufffd\ufffd\u0014\ufffd fc3b16c69e77ea5f2226bb791bfdbbd8\n",
        "\ufffd6\ufffdE\u0572\ufffd\u0004~\ufffd\ufffd\ufffds9o\u001f\ufffd\u000e 1f583b6823551fe2ad6d6d4fa00c50e3\n",
        "\t?\ufffd\ufffdo\ufffdr\ufffd\u0018?\ufffdE:v\ufffd\ufffd\ufffd\ufffd 96e9cd2b078f32846d0d10c47585f82e\n",
        "e\ufffd\u0000.\ufffdO\uba9dL\ufffd\ufffd4\ufffd\ufffd\ufffd cb0518a6d14f1234630ba21b344862f5\n",
        "\ufffd\u000b",
        "\ufffd\ufffd\u0477i\ufffd,4\ufffd\u0010\ufffd\ufffd\ufffdo\ufffd\ufffd ab949b1ac9e51310403418b0fa545365\n",
        "\ufffdW\ufffd.\ufffd>\ufffdr\ufffd\u0714\ufffd\ufffdCS\ufffd\ufffd 0f164c30be0d68a9076fc9a19386ec36\n",
        "\ufffdUyW/\ufffd\ufffdu5\ufffdm\ufffd,\ufffd\u03ea\ufffd b13868518d66956a0ec04b12cb3d0e49\n",
        "\ufffd`\ufffd_\ufffd_\ufffdVRJ\ufffdgm\ufffd\ufffd\u0004\ufffd\ufffd 84bf529051c4fbeb3cb951facc45f90c\n",
        "\ufffd\ufffd\ufffd\ufffdfM\ufffdn\ufffd\u0319\ufffd\u0002\ufffd\ufffd 84bdee502610920cfe18ec7e1f9fb353\n",
        "#\ufffduu_\ufffd\ufffdj\ufffd>)\u001f\u001e",
        "\ufffd\ufffd\ufffd\ufffd 540f60c3f0c0d58c661298a02bee284a\n",
        "M*yS,\ufffdM\u000b",
        "\ufffd9S\ufffd\u03e7\ufffd-\ufffdw 9053b3070a602e9f87dfc92391d9d67a\n",
        "\ufffde\ufffd\ufffd2\ufffd/\u001br\ufffd\ufffd\ube30|UVO 0cbb8efd31af0e7f6b41b58e48651374\n",
        "\ufffd,\ufffd\ufffdq?=\ufffd\u04f2\u0674\ufffdy\ufffd\ufffd 0f4fa9786bf4902a7872ed38dd664998\n",
        "\ufffd\ufffd @\ufffd\ufffd\u02fb3\ufffd\ufffd\ufffd\ufffd]\ufffdL\ufffd\ufffd 934377a072cd1db1962f36a1c5cd6817\n",
        "\ufffd\ufffd\u01ea\u0004n\u0005\ufffdQ\ufffd\ufffd\ufffdvN\ufffd\u0664 cd56357f7b134926a822ea347496b69d\n",
        "\ufffdk\ufffdU$\t\u0011d\u0013\ufffd\ufffd\u0011\u007f\u0486~\ufffd a6ae9ad3191fc78d5342b7ff4506a0e4\n",
        "\ufffdQYG\ufffd=\u0006\ufffd\ufffd\ufffdr!\ufffdA0#\ufffd\u000f 9b4a6b5dd92795e45602bf0dcd8a24cc\n",
        "\u0011\ufffd\ufffd8\ufffd\ufffdp\ufffd\ufffd\u0017\u000b",
        ":\u0007\ufffd\f",
        "\u0004\ufffd\ufffd 8148f04c7d8a9a4eea078a0173b33af3\n",
        "(C\u009ec\u0018\ufffd\t\u0015\u00143\u0000\u0000\ufffd\f",
        "s\n",
        "e45052887714d17e1d9e9bcc112e3f01\n",
        "\ufffd$\ufffd\u0019\u0007\ufffd\u000134\u001aMz\ufffd]\bj\ufffd\u000f d8bdd46a1523278d37b30bc525171827\n",
        "\ufffd9\ufffd\b\ufffd\ufffd\u0000\ufffd\ufffd\ufffdj\u0005\ufffd\u0006\ufffd\u0018e\ufffd 3b0ba4400fbc087159137e6d966afba6\n",
        "\ufffd\ufffd\ufffd11`\ufffd\ufffd9JR\ufffd\u0002\ufffd\ufffd\u0000\ufffd% 95990e1782abf9a52cb1d88e52c577e8\n",
        "zA\u04fe\ufffd\ufffd3@\n",
        "\ufffd\ufffd6\u0005\ufffd\u0015\ufffdX\ufffd dd7a4dc19908ed6fbb81173dcd368f5a\n",
        "\ufffd\ufffd\n",
        " m\ufffdS\"\u001b\u0001L\ufffd\u001d",
        "\ufffd\ufffd\u0004\ufffd] 53f63141dd2125f2ac7269b6d3893ffc\n",
        "^\u030a\ufffd\ufffd\ufffd\u0433\u000e\u0010\u0007gw\ufffd3\ufffd\u0016q 42b105a12f9c66d921b63daab5bf4a58\n",
        ">\f",
        "\u0010\ufffd\ufffd\ufffdo\ufffd\u0000R\n",
        "\ufffd\ufffdA\ufffdr\ufffd\ufffd ee1ee3d21627fbd973e16a43d9dd620d\n",
        "\u0007!7)\ufffd/9aa\u0002X\ufffdH\u001b\u0001\ufffdD\ufffd bda57d5dffbeb7b9039666868050089c\n",
        "\u0001\ufffd\ufffdy\ufffd\u001d",
        "\u0014\ufffd\ufffd>\u0003\ufffdV\ufffd\ufffdC\r",
        "61208c8b944ee108661be7fb98d21370\n",
        "\ufffd\ufffd7s\ufffdN\ufffdxq9\u0007+\ufffd\ufffd\ufffd%\ufffd! 7dd120636b14b81d0854a844461004a4\n",
        "\ufffd5\ufffd/\ufffd\ufffd\ufffd]\ufffd\u0012\ufffd\ufffd^/\ufffd\u0015:A aa5a3cd2075863b6f5f4c74510aadaca\n",
        "\u0000\ufffd.>3\ufffd\ufffd!\u0010ETt\ufffd\u0001Ix\u0006\ufffd c3de569d8b8df532546d31920b38781b\n",
        "UC\ufffd\ufffd:U\ufffdd\u01a5\ufffd\ufffd\u03044\ufffd$\ufffd 7a1109418655223e298e06b12366c1d6\n",
        "!M\ufffd\u03bcH\ufffdr\ufffdW\ufffd1&\ufffd.\ufffd\ufffd\ufffd 7b53a6e4a1c2e2dbf17f621798086d9a\n",
        "\u0005\ufffdZ\u0003\ufffdK!\u001ff\ufffdJ!\ufffd\ufffd\ufffd\ufffdM\ufffd ec7b9b0611197799e954315d55ca1e22\n",
        "/8\ufffd\ufffdQ\ufffd($\u0017\ufffd\ufffdj\ufffd'\b\ufffdY 59b83f4dfa9d61ba699516d0f695a24f\n",
        "\u007f\ufffd\ufffd+M\ufffd\b\ufffdb\u000f\ufffdn\ufffd\ufffd\ufffd\ufffd\u001b 69876f9187027ebc29cfa272ebc21a1e\n",
        "\f",
        "\ufffd\ufffd\ufffdi\ufffd\ufffd\ufffd\ufffd\ufffd\u0007\ufffd\ufffd/7\u0005 7bc01230c97a2a76df0d87fc937a35d0\n",
        "L\ufffd!\ufffd\ufffd\u03b6\ufffd\ufffd5\u0013\ufffdB|\ufffd\ufffd\ufffd a96d37fdb4b33e73bff0c3580a8b0d5c\n",
        "\u0164\ufffd\ufffd}3k\ufffd\ufffd\u001f\ufffd\u0007\ufffd\ufffdu\ufffd\ufffd abe213ea374f970b234c5a51cfd395b8\n",
        "s\ufffd\ufffd\ufffd\u0017%\ufffd\u0004\ufffd\ufffd\ufffdm\ufffd\ufffdB\u0018\ufffd ee1d559817074c7d6cda8a83eadf7fb9\n",
        "\ufffdV\ufffd-\u0001=/\ufffd-o\ufffd#\ufffd\ufffd)\ufffd\ufffd 4d96ad690fa6f894233335d3b6faebd1\n",
        "\ufffd\ufffd\u007f\ufffd\u0005\ufffd\ufffd_\ufffd\ufffd\ufffd\ufffd\u001d",
        "?\ufffd5\u007f fa4e83adb563f179cfa5a9a02aab81a7\n",
        "\ufffd\u0015_\ufffd5\u0007\ufffd8\ufffd\u001d",
        "\ufffd\ufffd\ufffd\u073c\ufffd!L 6f69b25e3592873ace7d1fa70b67b316\n",
        "\"\ufffd\bazX\u04c6%-(\ufffd_\ufffd\ufffd\u0018_\ufffd 678adceb369863c2529f9cd7c5b9b982\n",
        "\ufffd\u04f3\ufffd\ufffdm\ufffd9\ufffd\"ST\ufffdb\ufffd\ufffdE, 71909829cd225bab0de996932c9471bb\n",
        "y\u007f\bL\ufffd\ufffd\ufffd\ufffd\u0187q\ufffd\ufffd\u001b\ufffd>\ufffd\ufffd f20843cffe15b05cd33f6119a3982659\n",
        "\ufffd\ufffd\ufffdz\ufffdW\ufffd\u01ae\ufffdlM\u0683\ufffd\u001f\ufffd\u001d",
        " 0269f845cd225a810b459aac68bb9c22\n",
        "e\ufffd~\ufffd\u066f1\ufffdz\u020c\ufffd\ufffd-\ufffd\ufffd\ufffd c14a3ad4d3851332469633ec8b4aa5fc\n",
        "\ufffd\ufffdE&\ufffd\ufffd\u007f`\ufffd\ufffdDX\ufffd\ufffd\ufffdH\u032c f565470b5b91f704af1ca605c498ced6\n",
        "\ufffd\ufffdi\ufffd\ufffd\ufffd\ufffd\ufffd\u001e",
        "\ufffdy$\ufffd\ufffd\u0011\u02b4\t13b18462061a9485508326b228bf5aa8\n",
        "d`\u800ct$\u00c0lmA\u001f\ufffd\u0001\ufffd!\ufffd 1b77bc610915aaca5c096c82b4dd4dcf\n",
        "\ufffdY\u0012\ufffdz\ufffd.\ufffd\ufffd\u0006y$\ufffd:\u0001wp\u000e 932ab715cde05e6152bf39b665967ec9\n",
        "\ufffdA\ufffd\ufffd\ufffd\ufffd\u0006l2JB\ufffd\ufffd\ufffdPs\ufffd\u001a 0ce6b64c05ca9238aa18902d2423b3f1\n",
        "h\ufffd\ufffdd\u000b",
        "\ufffd#\ufffd\ufffd\u0004\ufffd\u0019\u28c5\ufffd b90894787583317a076f8fed56d07ba2\n",
        "#\ufffdTX\u0001\ufffd7T\u000e\ufffd\ufffd2\u0004\ufffds\ufffdY b666ecb4c444798e727ef588f45e5123\n",
        "\u0002\ufffd\ufffd\ufffd<\ufffdg\ufffdr\ufffdhm\ufffdQ\ufffd3\u000b",
        "\ufffd 95c31ffc71cb88de3d5737bc99afac86\n",
        "\ufffd\ufffd6M\ufffd\ufffd2\ufffdQ\ufffd\ufffd|\ufffd\ufffd1\ufffd\u001c",
        "\ufffd 9f38fefc2e8f20a13211090c61659c5e\n",
        "\ufffd\ufffdD/\ufffdv\ufffd\ufffd}\ufffd\ufffd\ufffd\ufffdI\ufffd{\ufffdg a93a95f40057b79fe7740f273e77195d\n",
        "\ufffd\u001a\ufffd\ufffd\u0590\ufffd\ufffd\ufffd\ufffd\ufffd\ufffdX\u0006w\ufffdo 523bb0c5b89b5dc08f994150314135cb\n",
        "e\u0007\ufffd\ufffd\u000ewO\u043b\ufffd#\ufffd\ufffd\ufffdPW\u0003\ufffd 2fd3a0ab3c1c5d801403ff5ad347cadd\n",
        "k\ufffd\u000f\ufffdp\u0000\ufffd\ufffdz8V]gy\u0010\ufffdR\u001c",
        " 49d166aac86d5057d62a109ebf86c7bd\n",
        "\u0003\ufffdC\u070fG{\ufffd\ufffdvk\ufffd\ufffdv\ufffdR\u0005Q 094aa8a89304a7942c4a555f6cc7d1d0\n",
        "\u000e\ufffd\ufffdz8\ufffd\b-\ufffd\ufffd\ufffd\ufffd\u0010c\ufffd\ufffd fc19bc79d05eee5dedada0f061a0ee7d\n",
        "\ufffdH#\ufffdC\u007f\ufffd\ufffd\ufffd:D\ufffd%D\ufffdFh 832bd9aa8a69de1841a36898f439a199\n",
        "\ufffd\ufffd^\u0011\ufffd\ufffd\ufffd\ufffd$_\ufffd\ufffd\ufffd\ufffdv\u00133 9ea713f1c6c4802bef07c8de3b4f1b19\n",
        "\u000b",
        "\ufffd\ufffd\u0645\ufffd\u0014}t\ufffd\ufffd\ufffd\u0019l@Q\ufffd\u001d",
        " 27707e2f94ce3913e1462c5e3c704f23\n",
        "\ufffd\ufffd\ufffd\u0013\ufffd6\"<\u000f\u0019\ufffd\u007f+(w\ufffd\u001b\u001a 0f15710ce9ac450872bbfd45652a1960\n",
        "\r",
        "\ufffd\ufffd\u02989\ufffdf\ufffd\ufffd\u0017\ufffdm} =i\ufffd 84893d366fe5ec3c20f0877ca38a56af\n",
        "\ufffd\ufffd\ufffd\u0011\ufffdo\ufffd\u001e",
        "\u0012fC-<\ufffd\ufffd7-\ufffd 7828cd6592279e234b8622ed4a209cec\n",
        "\ufffd1\ufffd\ufffd\ufffd\ufffdC\ufffd\ufffdw\ufffd\ufffd\ufffd\u0016#g\ufffd` 95a586fe4c35c7c053b3d04ca6426042\n",
        "\u0007\u07603\ufffd\u0767\u0003\ufffd\ufffdE\ufffdo\ufffd\ufffd\u000b",
        "F\ufffd 63d90c2d54eb0c7a92c9388c1d7970f2\n",
        "\ufffd\ufffdH\ufffd\ufffd\ufffd\ufffd\u001e",
        "\ufffd5\ufffd\ufffd\ufffd\ufffd\ufffd\u0011I\ufffd 04ba28000895509ce7c34d246333abe7\n",
        "\ufffd\u001d",
        "\ufffd(\n",
        "\u0007D\ufffd\ufffd\ufffd@\ufffdb\u001d",
        "\ufffd\u000b",
        "t\ufffd 40c61554dc06d102b6a5d255db4beb9f\n",
        "\u001a\ufffd\ufffd\ufffd\u001e",
        "d\ufffd\ufffd\u0005\u0018\u0000\ufffdK\u000b",
        "\u0018\r",
        "en 3fadd4147f91aaf337d45819d60c4f98\n",
        "dstream\r",
        "endobj\r",
        "107 f2303012f0447bf862212ca2e534831c\n",
        "93 0 obj\r",
        "<</Filter a9dbbddcabbd8e4f4606aa1fbcda9aef\n",
        "/FlateDecode/First b0e12672778f6ef5e466f1abfbb2a16a\n",
        " 8/Length 221/N 1/ 8eacf53eec29b940a8052f29b6e3064b\n",
        "Type/ObjStm>>strea 13d633b9eae0087e211230ada8643b09\n",
        "m\r\n",
        "h\ufffdT\ufffdQK\ufffd0\u0014\ufffd\ufffd\ufffd}[\u0003 c9f985724cdd2078516031b64948e5b3\n",
        "]s\ufffd\ufffdc\ufffd1(\ufffd\"\ufffdaq\ufffd{\ufffdK\\ b6b30087661113a084d53c3c5ca54324\n",
        "\ufffd\u0018\ufffdII\u0013\ufffd\ufffd\ufffd0}\ufffd\ufffd\ufffd\ufffd}\u001c",
        "\ufffd f4ef2d098589a8e00f325b69e8a91b3e\n",
        "\ufffd\u001b@\ufffd\ufffdy\u001d",
        "\u00e7\ufffd\ufffd\u001b\ufffdp\ufffd>\u001ak 1b740a978087ea2867831cc6e9760263\n",
        "ia\ufffd\u0793\u000e\ufffd\ufffdF\u0007\u029a\ufffdD!\u0005\ufffd\ufffd 21aa59c04448d8162a64454d6123223a\n",
        ";\ufffd\n",
        "\\c\ufffdB\\\ufffd\ufffd\ufffd\ufffdr>B\ufffd\ufffd\ufffd 6cd74b658da8c17d77d082154c971030\n",
        "\u000e\ufffd<\ufffd\ufffd\ufffd\ufffdg\u0001}\ufffd\ufffd2\ufffd\ufffd\ufffd\u001c",
        "\ufffd d85286437455395ceb164633572e01c4\n",
        "T=\ufffd\u000f\ufffd\ufffdhl\ufffdf\ufffd\ufffd\ufffd\ufffdJT\ufffd 8b1fdaa51dfad5802d88f9cffe18d3fb\n",
        "\ufffd\ufffd\u001a\ufffd/\ufffd\ufffdn\ufffdW\ufffdYm\u0003Y\ufffd\ufffd\ufffd 4c55c6dc9f295e490dfdd37b7ddc74f3\n"
       ]
      }
     ],
     "prompt_number": 16
    },
    {
     "cell_type": "code",
     "collapsed": false,
     "input": [
      "fd = open(filename2, \"rb\")\n",
      "i=0\n",
      "hashes2=[]\n",
      "for element in range (0,100):\n",
      "    buffer, hash_result = hashing_byte_reader(fd, 18)\n",
      "    hashes2.append(hash_result)\n",
      "    print hash_result"
     ],
     "language": "python",
     "metadata": {},
     "outputs": [
      {
       "output_type": "stream",
       "stream": "stdout",
       "text": [
        "ea0e0911c88028d4f6ecaf2f8637279a\n",
        "32ce1917253bd45f6b0abbf0fec6d826\n",
        "7eec080cb28df7db11dc388693b25695\n",
        "b5446341cb87952738fed39d5da26928\n",
        "fbfb2ba40ede03ebe7612c4fdfe7d91d\n",
        "9de4fa8d48e7dcb1fb89562db4c9da07\n",
        "58b155dd84930783adaa158cabf04b02\n",
        "db87cb40eb410ce436101cd671bc69ac\n",
        "7bf484366c1f24eb1c8c970c0de19b7b\n",
        "22e90ebd7bf0f97a61597af0692f9a83\n",
        "8dd0e73c0cf55568a427244b37accd51\n",
        "72a4c2eca2462e7687640c09db25aac4\n",
        "fc3b16c69e77ea5f2226bb791bfdbbd8\n",
        "1f583b6823551fe2ad6d6d4fa00c50e3\n",
        "96e9cd2b078f32846d0d10c47585f82e\n",
        "cb0518a6d14f1234630ba21b344862f5\n",
        "ab949b1ac9e51310403418b0fa545365\n",
        "0f164c30be0d68a9076fc9a19386ec36\n",
        "b13868518d66956a0ec04b12cb3d0e49\n",
        "84bf529051c4fbeb3cb951facc45f90c\n",
        "84bdee502610920cfe18ec7e1f9fb353\n",
        "540f60c3f0c0d58c661298a02bee284a\n",
        "9053b3070a602e9f87dfc92391d9d67a\n",
        "0cbb8efd31af0e7f6b41b58e48651374\n",
        "0f4fa9786bf4902a7872ed38dd664998\n",
        "934377a072cd1db1962f36a1c5cd6817\n",
        "cd56357f7b134926a822ea347496b69d\n",
        "a6ae9ad3191fc78d5342b7ff4506a0e4\n",
        "9b4a6b5dd92795e45602bf0dcd8a24cc\n",
        "8148f04c7d8a9a4eea078a0173b33af3\n",
        "e45052887714d17e1d9e9bcc112e3f01\n",
        "d8bdd46a1523278d37b30bc525171827\n",
        "3b0ba4400fbc087159137e6d966afba6\n",
        "95990e1782abf9a52cb1d88e52c577e8\n",
        "dd7a4dc19908ed6fbb81173dcd368f5a\n",
        "53f63141dd2125f2ac7269b6d3893ffc\n",
        "42b105a12f9c66d921b63daab5bf4a58\n",
        "ee1ee3d21627fbd973e16a43d9dd620d\n",
        "bda57d5dffbeb7b9039666868050089c\n",
        "61208c8b944ee108661be7fb98d21370\n",
        "7dd120636b14b81d0854a844461004a4\n",
        "aa5a3cd2075863b6f5f4c74510aadaca\n",
        "c3de569d8b8df532546d31920b38781b\n",
        "7a1109418655223e298e06b12366c1d6\n",
        "7b53a6e4a1c2e2dbf17f621798086d9a\n",
        "ec7b9b0611197799e954315d55ca1e22\n",
        "59b83f4dfa9d61ba699516d0f695a24f\n",
        "69876f9187027ebc29cfa272ebc21a1e\n",
        "7bc01230c97a2a76df0d87fc937a35d0\n",
        "a96d37fdb4b33e73bff0c3580a8b0d5c\n",
        "abe213ea374f970b234c5a51cfd395b8\n",
        "ee1d559817074c7d6cda8a83eadf7fb9\n",
        "4d96ad690fa6f894233335d3b6faebd1\n",
        "fa4e83adb563f179cfa5a9a02aab81a7\n",
        "6f69b25e3592873ace7d1fa70b67b316\n",
        "678adceb369863c2529f9cd7c5b9b982\n",
        "71909829cd225bab0de996932c9471bb\n",
        "f20843cffe15b05cd33f6119a3982659\n",
        "0269f845cd225a810b459aac68bb9c22\n",
        "c14a3ad4d3851332469633ec8b4aa5fc\n",
        "f565470b5b91f704af1ca605c498ced6\n",
        "13b18462061a9485508326b228bf5aa8\n",
        "1b77bc610915aaca5c096c82b4dd4dcf\n",
        "932ab715cde05e6152bf39b665967ec9\n",
        "0ce6b64c05ca9238aa18902d2423b3f1\n",
        "b90894787583317a076f8fed56d07ba2\n",
        "b666ecb4c444798e727ef588f45e5123\n",
        "95c31ffc71cb88de3d5737bc99afac86\n",
        "9f38fefc2e8f20a13211090c61659c5e\n",
        "a93a95f40057b79fe7740f273e77195d\n",
        "523bb0c5b89b5dc08f994150314135cb\n",
        "2fd3a0ab3c1c5d801403ff5ad347cadd\n",
        "49d166aac86d5057d62a109ebf86c7bd\n",
        "094aa8a89304a7942c4a555f6cc7d1d0\n",
        "fc19bc79d05eee5dedada0f061a0ee7d\n",
        "832bd9aa8a69de1841a36898f439a199\n",
        "9ea713f1c6c4802bef07c8de3b4f1b19\n",
        "27707e2f94ce3913e1462c5e3c704f23\n",
        "0f15710ce9ac450872bbfd45652a1960\n",
        "84893d366fe5ec3c20f0877ca38a56af\n",
        "7828cd6592279e234b8622ed4a209cec\n",
        "95a586fe4c35c7c053b3d04ca6426042\n",
        "63d90c2d54eb0c7a92c9388c1d7970f2\n",
        "04ba28000895509ce7c34d246333abe7\n",
        "40c61554dc06d102b6a5d255db4beb9f\n",
        "3fadd4147f91aaf337d45819d60c4f98\n",
        "f2303012f0447bf862212ca2e534831c\n",
        "a9dbbddcabbd8e4f4606aa1fbcda9aef\n",
        "b0e12672778f6ef5e466f1abfbb2a16a\n",
        "8eacf53eec29b940a8052f29b6e3064b\n",
        "13d633b9eae0087e211230ada8643b09\n",
        "c9f985724cdd2078516031b64948e5b3\n",
        "b6b30087661113a084d53c3c5ca54324\n",
        "f4ef2d098589a8e00f325b69e8a91b3e\n",
        "1b740a978087ea2867831cc6e9760263\n",
        "21aa59c04448d8162a64454d6123223a\n",
        "6cd74b658da8c17d77d082154c971030\n",
        "d85286437455395ceb164633572e01c4\n",
        "8b1fdaa51dfad5802d88f9cffe18d3fb\n",
        "4c55c6dc9f295e490dfdd37b7ddc74f3\n"
       ]
      }
     ],
     "prompt_number": 17
    },
    {
     "cell_type": "code",
     "collapsed": false,
     "input": [
      "a=set(hashes1)\n",
      "b=set(hashes2)\n",
      "\n",
      "len(a)\n",
      "len(b)\n"
     ],
     "language": "python",
     "metadata": {},
     "outputs": [
      {
       "output_type": "pyout",
       "prompt_number": 20,
       "text": [
        "100"
       ]
      }
     ],
     "prompt_number": 20
    },
    {
     "cell_type": "code",
     "collapsed": false,
     "input": [
      "a.intersection(b)\n",
      "len(a.intersection(b))"
     ],
     "language": "python",
     "metadata": {},
     "outputs": [
      {
       "output_type": "pyout",
       "prompt_number": 23,
       "text": [
        "100"
       ]
      }
     ],
     "prompt_number": 23
    },
    {
     "cell_type": "heading",
     "level": 2,
     "metadata": {},
     "source": [
      "."
     ]
    },
    {
     "cell_type": "heading",
     "level": 2,
     "metadata": {},
     "source": [
      "."
     ]
    },
    {
     "cell_type": "heading",
     "level": 2,
     "metadata": {},
     "source": [
      "."
     ]
    },
    {
     "cell_type": "heading",
     "level": 2,
     "metadata": {},
     "source": [
      "Demo to parse the mem file with 10 of 56 records each of length 18 "
     ]
    },
    {
     "cell_type": "code",
     "collapsed": false,
     "input": [
      "fd = open(filename, \"rb\")"
     ],
     "language": "python",
     "metadata": {},
     "outputs": [],
     "prompt_number": 6
    },
    {
     "cell_type": "code",
     "collapsed": false,
     "input": [
      "i = 0"
     ],
     "language": "python",
     "metadata": {},
     "outputs": [],
     "prompt_number": 7
    },
    {
     "cell_type": "code",
     "collapsed": false,
     "input": [
      "'''\n",
      "Demo to parse the mem file with 10 of 56 records each of length 18 \n",
      "'''\n",
      "\n",
      "for element in range (0,10):\n",
      "    buffer = byte_reader(fd, 18)\n",
      "             \n",
      "    print 100*\"*\"\n",
      "    print i\n",
      "    sourceAddress = struct.unpack_from('B', buffer,0),\\\n",
      "                    struct.unpack_from('B', buffer,1),\\\n",
      "                    struct.unpack_from('B', buffer,2),\\\n",
      "                    struct.unpack_from('B', buffer,3)\n",
      "    print \"Reading Source IP Address\"\n",
      "    time.sleep(0.5)\n",
      "    \n",
      "    destinationAddress = struct.unpack_from('B', buffer,4),\\\n",
      "                    struct.unpack_from('B', buffer,5),\\\n",
      "                    struct.unpack_from('B', buffer,6),\\\n",
      "                    struct.unpack_from('B', buffer,7)\n",
      "    print \"Reading Destination IP Address\"\n",
      "    time.sleep(0.5)\n",
      "    \n",
      "    sourcePort = struct.unpack_from('H',buffer,8)\n",
      "    \n",
      "    destinationPort = struct.unpack_from('H',buffer,10)\n",
      "    \n",
      "    protocolUsed = struct.unpack_from('H',buffer,12)\n",
      "    \n",
      "    timeStamp = struct.unpack_from('B', buffer,14),\\\n",
      "                struct.unpack_from('B', buffer,15),\\\n",
      "                struct.unpack_from('B', buffer,16),\\\n",
      "                struct.unpack_from('B', buffer,17)\n",
      "            \n",
      "    a,b,c,d = sourceAddress\n",
      "    e,f,g,h = destinationAddress\n",
      "    j = sourcePort\n",
      "    k = destinationPort\n",
      "    \n",
      "    print \"sourceAddress = \", \".\".join([str(a[0]),str(b[0]),str(c[0]),str(d[0])])\n",
      "    print \"destinationAddress = \", \".\".join([str(e[0]),str(f[0]),str(g[0]),str(h[0])])\n",
      "    print \"sourcePort = \", j[0]\n",
      "    print \"destinationPort = \", k[0]\n",
      "    print \"protocolUsed = \", protocolUsed\n",
      "    print \"timeStamp = \", timeStamp\n",
      "    time.sleep(2)\n",
      "    i=i+1"
     ],
     "language": "python",
     "metadata": {},
     "outputs": [
      {
       "output_type": "stream",
       "stream": "stdout",
       "text": [
        "****************************************************************************************************\n",
        "0\n",
        "sourceAddress =  192.168.10.100\n",
        "destinationAddress =  192.168.1.101\n",
        "sourcePort =  10787\n",
        "destinationPort =  11043\n",
        "protocolUsed =  (256,)\n",
        "timeStamp =  ((1,), (12,), (0,), (1,))\n",
        "****************************************************************************************************"
       ]
      },
      {
       "output_type": "stream",
       "stream": "stdout",
       "text": [
        "\n",
        "1\n",
        "sourceAddress =  192.168.10.102\n",
        "destinationAddress =  207.168.1.103\n",
        "sourcePort =  11299\n",
        "destinationPort =  11555\n",
        "protocolUsed =  (256,)\n",
        "timeStamp =  ((1,), (12,), (0,), (1,))\n",
        "****************************************************************************************************"
       ]
      },
      {
       "output_type": "stream",
       "stream": "stdout",
       "text": [
        "\n",
        "2\n",
        "sourceAddress =  192.168.10.104\n",
        "destinationAddress =  192.168.1.105\n",
        "sourcePort =  11043\n",
        "destinationPort =  10787\n",
        "protocolUsed =  (256,)\n",
        "timeStamp =  ((1,), (12,), (0,), (3,))\n",
        "****************************************************************************************************"
       ]
      },
      {
       "output_type": "stream",
       "stream": "stdout",
       "text": [
        "\n",
        "3\n",
        "sourceAddress =  192.168.10.112\n",
        "destinationAddress =  192.168.1.113\n",
        "sourcePort =  11811\n",
        "destinationPort =  11043\n",
        "protocolUsed =  (256,)\n",
        "timeStamp =  ((1,), (12,), (0,), (4,))\n",
        "****************************************************************************************************"
       ]
      },
      {
       "output_type": "stream",
       "stream": "stdout",
       "text": [
        "\n",
        "4\n",
        "sourceAddress =  192.168.10.74\n",
        "destinationAddress =  192.168.1.75\n",
        "sourcePort =  12067\n",
        "destinationPort =  10787\n",
        "protocolUsed =  (256,)\n",
        "timeStamp =  ((1,), (12,), (0,), (5,))\n",
        "****************************************************************************************************"
       ]
      },
      {
       "output_type": "stream",
       "stream": "stdout",
       "text": [
        "\n",
        "5\n",
        "sourceAddress =  192.168.10.116\n",
        "destinationAddress =  192.168.1.117\n",
        "sourcePort =  10788\n",
        "destinationPort =  11044\n",
        "protocolUsed =  (256,)\n",
        "timeStamp =  ((1,), (12,), (0,), (6,))\n",
        "****************************************************************************************************"
       ]
      },
      {
       "output_type": "stream",
       "stream": "stdout",
       "text": [
        "\n",
        "6\n",
        "sourceAddress =  192.168.10.76\n",
        "destinationAddress =  192.168.1.78\n",
        "sourcePort =  11300\n",
        "destinationPort =  10787\n",
        "protocolUsed =  (256,)\n",
        "timeStamp =  ((1,), (12,), (0,), (7,))\n",
        "****************************************************************************************************"
       ]
      },
      {
       "output_type": "stream",
       "stream": "stdout",
       "text": [
        "\n",
        "7\n",
        "sourceAddress =  192.168.10.79\n",
        "destinationAddress =  192.168.10.1\n",
        "sourcePort =  43200\n",
        "destinationPort =  2817\n",
        "protocolUsed =  (11811,)\n",
        "timeStamp =  ((35,), (1,), (0,), (1,))\n",
        "****************************************************************************************************"
       ]
      },
      {
       "output_type": "stream",
       "stream": "stdout",
       "text": [
        "\n",
        "8\n",
        "sourceAddress =  1.12.0.8\n",
        "destinationAddress =  192.168.10.12\n",
        "sourcePort =  43200\n",
        "destinationPort =  2817\n",
        "protocolUsed =  (10788,)\n",
        "timeStamp =  ((36,), (43,), (0,), (1,))\n",
        "****************************************************************************************************"
       ]
      },
      {
       "output_type": "stream",
       "stream": "stdout",
       "text": [
        "\n",
        "9\n",
        "sourceAddress =  1.12.0.8\n",
        "destinationAddress =  192.168.1.11\n",
        "sourcePort =  43200\n",
        "destinationPort =  3594\n",
        "protocolUsed =  (43200,)\n",
        "timeStamp =  ((1,), (12,), (35,), (2,))\n"
       ]
      }
     ],
     "prompt_number": 8
    }
   ],
   "metadata": {}
  }
 ]
}