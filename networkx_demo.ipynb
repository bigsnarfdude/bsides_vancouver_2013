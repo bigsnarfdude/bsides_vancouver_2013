{
 "metadata": {
  "name": "networkx_demo"
 },
 "nbformat": 3,
 "nbformat_minor": 0,
 "worksheets": [
  {
   "cells": [
    {
     "cell_type": "code",
     "collapsed": false,
     "input": [
      "import networkx as nx"
     ],
     "language": "python",
     "metadata": {},
     "outputs": [],
     "prompt_number": 1
    },
    {
     "cell_type": "code",
     "collapsed": false,
     "input": [
      "data = \"\"\"traceroute to www.vancouver.ca (199.175.219.246), 64 hops max, 52 byte packets\n",
      " 1  192.168.1.254 (192.168.1.254)  2.381 ms  2.554 ms  0.841 ms\n",
      " 2  10.31.196.1 (10.31.196.1)  27.991 ms  19.714 ms  17.100 ms\n",
      " 3  clgrab31gr01.bb.telus.com (154.11.10.170)  46.593 ms  44.800 ms  270.093 ms\n",
      " 4  154.11.2.218 (154.11.2.218)  43.418 ms  42.816 ms  43.113 ms\n",
      " 5  core3-calgaryqa_gi6-0-0.net.bell.ca (64.230.77.250)  61.020 ms  64.224 ms  61.376 ms\n",
      " 6  * * *\n",
      " 7  * core3-vancouverbg_pos10-1-0.net.bell.ca (64.230.77.205)  62.431 ms  62.479 ms\n",
      " 8  * agg1-vancouverbg_xe5-0-0.net.bell.ca (64.230.77.229)  61.626 ms  128.529 ms\n",
      " 9  dis4-vancouverbg_10-0-0.net.bell.ca (64.230.122.241)  132.342 ms  60.667 ms  62.148 ms\n",
      "10  10.1.7.2 (10.1.7.2)  61.920 ms  61.926 ms  60.517 ms\n",
      "11  204.101.186.34 (204.101.186.34)  61.635 ms  62.415 ms  61.575 ms\n",
      "12  * * *\n",
      "13  * * *\n",
      "14  * * *\n",
      "15  * * *\n",
      "16  * * *\n",
      "17  * * *\n",
      "18  * * *\n",
      "19  * * *\n",
      "20  * * *\n",
      "21  * * *\n",
      "22  * * *\n",
      "23  * * *\n",
      "24  * * *\n",
      "25  * * *\n",
      "26  * * *\n",
      "27  * * *\n",
      "28  * * *\n",
      "29  * * * \"\"\"\n",
      "data = data.split(\"\\n\")"
     ],
     "language": "python",
     "metadata": {},
     "outputs": [],
     "prompt_number": 2
    },
    {
     "cell_type": "code",
     "collapsed": false,
     "input": [
      "data = data[1:]"
     ],
     "language": "python",
     "metadata": {},
     "outputs": [],
     "prompt_number": 3
    },
    {
     "cell_type": "code",
     "collapsed": false,
     "input": [
      "cleaned_ip = [ \",\".join(item.split()[1:4]) for item in data if \"* * *\" not in item ]"
     ],
     "language": "python",
     "metadata": {},
     "outputs": [],
     "prompt_number": 4
    },
    {
     "cell_type": "code",
     "collapsed": false,
     "input": [
      "import re\n",
      "pattern = r'[0-9]+\\.[0-9]+\\.[0-9]+\\.[0-9]+'\n",
      "path_list = [re.findall(pattern,line)[0] for line in cleaned_ip]"
     ],
     "language": "python",
     "metadata": {},
     "outputs": [],
     "prompt_number": 5
    },
    {
     "cell_type": "code",
     "collapsed": false,
     "input": [
      "node_node = zip(path_list,path_list[1:])\n",
      "node_node"
     ],
     "language": "python",
     "metadata": {},
     "outputs": [
      {
       "output_type": "pyout",
       "prompt_number": 6,
       "text": [
        "[('192.168.1.254', '10.31.196.1'),\n",
        " ('10.31.196.1', '154.11.10.170'),\n",
        " ('154.11.10.170', '154.11.2.218'),\n",
        " ('154.11.2.218', '64.230.77.250'),\n",
        " ('64.230.77.250', '64.230.77.205'),\n",
        " ('64.230.77.205', '64.230.77.229'),\n",
        " ('64.230.77.229', '64.230.122.241'),\n",
        " ('64.230.122.241', '10.1.7.2'),\n",
        " ('10.1.7.2', '204.101.186.34')]"
       ]
      }
     ],
     "prompt_number": 6
    },
    {
     "cell_type": "code",
     "collapsed": false,
     "input": [
      "trace = nx.Graph()"
     ],
     "language": "python",
     "metadata": {},
     "outputs": [],
     "prompt_number": 7
    },
    {
     "cell_type": "code",
     "collapsed": false,
     "input": [
      "[trace.add_edge(a,b) for a,b in node_node] "
     ],
     "language": "python",
     "metadata": {},
     "outputs": [
      {
       "output_type": "pyout",
       "prompt_number": 8,
       "text": [
        "[None, None, None, None, None, None, None, None, None]"
       ]
      }
     ],
     "prompt_number": 8
    },
    {
     "cell_type": "code",
     "collapsed": false,
     "input": [
      "trace.edges()"
     ],
     "language": "python",
     "metadata": {},
     "outputs": [
      {
       "output_type": "pyout",
       "prompt_number": 9,
       "text": [
        "[('64.230.77.229', '64.230.122.241'),\n",
        " ('64.230.77.229', '64.230.77.205'),\n",
        " ('10.31.196.1', '154.11.10.170'),\n",
        " ('10.31.196.1', '192.168.1.254'),\n",
        " ('154.11.10.170', '154.11.2.218'),\n",
        " ('10.1.7.2', '64.230.122.241'),\n",
        " ('10.1.7.2', '204.101.186.34'),\n",
        " ('64.230.77.250', '154.11.2.218'),\n",
        " ('64.230.77.250', '64.230.77.205')]"
       ]
      }
     ],
     "prompt_number": 9
    },
    {
     "cell_type": "code",
     "collapsed": false,
     "input": [
      "trace.nodes()"
     ],
     "language": "python",
     "metadata": {},
     "outputs": [
      {
       "output_type": "pyout",
       "prompt_number": 10,
       "text": [
        "['64.230.77.229',\n",
        " '10.31.196.1',\n",
        " '154.11.10.170',\n",
        " '10.1.7.2',\n",
        " '64.230.77.250',\n",
        " '192.168.1.254',\n",
        " '154.11.2.218',\n",
        " '64.230.122.241',\n",
        " '204.101.186.34',\n",
        " '64.230.77.205']"
       ]
      }
     ],
     "prompt_number": 10
    },
    {
     "cell_type": "code",
     "collapsed": false,
     "input": [
      "nx.draw(trace)"
     ],
     "language": "python",
     "metadata": {},
     "outputs": [
      {
       "output_type": "display_data",
       "png": "[encoded data removed]"
      }
     ],
     "prompt_number": 11
    }
   ],
   "metadata": {}
  }
 ]
}